{
 "cells": [
  {
   "cell_type": "markdown",
   "metadata": {},
   "source": [
    "# Session 2 Part 1: Going Further, Discovering class-imbalance in datasets\n",
    "\n",
    "<a rel=\"license\" href=\"http://creativecommons.org/licenses/by-nc-sa/4.0/\"><img alt=\"Creative Commons License\" align=\"left\" src=\"https://i.creativecommons.org/l/by-nc-sa/4.0/80x15.png\" /></a>&nbsp;| Florient Chouteau | <a href=\"https://supaerodatascience.github.io/deep-learning/\">https://supaerodatascience.github.io/deep-learning/</a>\n",
    "\n",
    "Since we have done the most basic training example, got our hands on skorch and on the dataset, we are going to repeat our process using a more realistic use case. This time, our dataset will be severely unbalanced (10% of all data will be images of aircrafts), like in real life (or not even like in real life but it's getting closer).\n",
    "\n",
    "Here, we won't guide you, you will have to use what you learned in the previous notebooks as well as what you learned in previous data science class to try to devise a way to train a good model\n",
    "\n",
    "You are going to:\n",
    "- Do a first \"naive\" run with the full data\n",
    "- Diagnose performance\n",
    "- Try to improve it by tuning several factors:\n",
    "  - The dataset itself\n",
    "  - The optimization parameters\n",
    "  - The network architecture\n",
    "\n",
    "**Remember that \"deep learning\" is still considered somewhat a black art so it's hard to know in advance what will work.**\n"
   ]
  },
  {
   "cell_type": "code",
   "execution_count": null,
   "metadata": {},
   "outputs": [],
   "source": [
    "# Put your imports here\n",
    "import numpy as np"
   ]
  },
  {
   "cell_type": "code",
   "execution_count": null,
   "metadata": {},
   "outputs": [],
   "source": [
    "# Global variables\n",
    "TRAINVAL_DATASET_URL = \"https://storage.googleapis.com/fchouteau-isae-deep-learning/large_aircraft_dataset.npz\""
   ]
  },
  {
   "cell_type": "markdown",
   "metadata": {},
   "source": [
    "## Q0 Downloading & splitting the dataset\n",
    "\n",
    "You will get the following:\n",
    "\n",
    "- 50k images in training which you should use as training & validation\n",
    "- 5k images in test, which you should only use to compute your final metrics on. **Don't ever use this dataset for early stopping / intermediary metrics**\n",
    "\n",
    "<img src=\"https://i.stack.imgur.com/pXAfX.png\" alt=\"pokemon\" style=\"width: 400px;\"/>"
   ]
  },
  {
   "cell_type": "code",
   "execution_count": null,
   "metadata": {},
   "outputs": [],
   "source": [
    "# Download the dataset\n",
    "ds = np.DataSource(\"/tmp/\")\n",
    "f = ds.open(TRAINVAL_DATASET_URL, \"rb\")\n",
    "trainval_dataset = np.load(f)\n",
    "trainval_images = trainval_dataset[\"train_images\"]\n",
    "trainval_labels = trainval_dataset[\"train_labels\"]\n",
    "test_images = trainval_dataset[\"test_images\"]\n",
    "test_labels = trainval_dataset[\"test_labels\"]"
   ]
  },
  {
   "cell_type": "code",
   "execution_count": null,
   "metadata": {},
   "outputs": [],
   "source": [
    "print(trainval_images.shape)\n",
    "print(np.unique(trainval_labels, return_counts=True))\n",
    "\n",
    "print(test_images.shape)\n",
    "print(np.unique(test_labels, return_counts=True))"
   ]
  },
  {
   "cell_type": "markdown",
   "metadata": {},
   "source": [
    "### a. Data Exploration\n",
    "\n",
    "a. Can you plot some images ?\n",
    "\n",
    "b. What is the aircraft/background ratio ?"
   ]
  },
  {
   "cell_type": "code",
   "execution_count": null,
   "metadata": {},
   "outputs": [],
   "source": []
  },
  {
   "cell_type": "markdown",
   "metadata": {},
   "source": [
    "### b. Dataset Splitting\n",
    "\n",
    "Here we will split the trainval_dataset to obtain a training and a validation dataset.\n",
    "\n",
    "For example, try to use 20% of the images as validation\n",
    "\n",
    "You must have seen that the dataset was really unbalanced, so a random sampling will not work...\n",
    "\n",
    "Use stratified sampling to keep the label distribution between training and validation"
   ]
  },
  {
   "cell_type": "code",
   "execution_count": null,
   "metadata": {},
   "outputs": [],
   "source": [
    "# Hint to get your started\n",
    "background_indexes = np.where(trainval_labels == 0)\n",
    "foreground_indexes = np.where(trainval_labels == 1)"
   ]
  },
  {
   "cell_type": "markdown",
   "metadata": {},
   "source": [
    "## Q1. Training & metrics\n",
    "\n",
    "During Session 1, you learnt how to set up your environment on Colab, train a basic CNN on a small training set and plot metrics. Now let's do it again !"
   ]
  },
  {
   "cell_type": "markdown",
   "metadata": {},
   "source": [
    "### First run\n",
    "\n",
    "Once you have downloaded & created your training & validation dataset, use the notebook from Session 1 to get:\n",
    "\n",
    "a. Training of the model using steps seen during Session 1\n",
    "\n",
    "b. Compute and plot metrics (confusion matrix, ROC curve) based on this training\n",
    "\n",
    "c. Compare the metrics between this new dataset and the one from Session 1\n",
    "\n",
    "d. What did you expect ? Is your model working well ?"
   ]
  },
  {
   "cell_type": "code",
   "execution_count": null,
   "metadata": {},
   "outputs": [],
   "source": [
    "from typing import Callable\n",
    "\n",
    "import torch\n",
    "import torch.nn.functional as F\n",
    "from PIL import Image\n",
    "from torch import nn, optim\n",
    "from torch.utils.data import DataLoader, Dataset\n",
    "from torchvision import datasets, transforms"
   ]
  },
  {
   "cell_type": "code",
   "execution_count": null,
   "metadata": {},
   "outputs": [],
   "source": [
    "DEVICE = torch.device(\"cuda:0\" if torch.cuda.is_available() else \"cpu\")"
   ]
  },
  {
   "cell_type": "code",
   "execution_count": null,
   "metadata": {
    "lines_to_next_cell": 1
   },
   "outputs": [],
   "source": [
    "# Helper functions to get you started\n",
    "class NpArrayDataset(Dataset):\n",
    "    def __init__(\n",
    "        self,\n",
    "        images: np.ndarray,\n",
    "        labels: np.ndarray,\n",
    "        image_transforms: Callable = None,\n",
    "        label_transforms: Callable = None,\n",
    "    ):\n",
    "        self.images = images\n",
    "        self.labels = labels\n",
    "        self.image_transforms = image_transforms\n",
    "        self.label_transforms = label_transforms\n",
    "\n",
    "    def __len__(self):\n",
    "        return self.images.shape[0]\n",
    "\n",
    "    def __getitem__(self, index: int):\n",
    "        x = self.images[index]\n",
    "        y = self.labels[index]\n",
    "\n",
    "        if self.image_transforms is not None:\n",
    "            x = self.image_transforms(x)\n",
    "        else:\n",
    "            x = torch.tensor(x)\n",
    "\n",
    "        if self.label_transforms is not None:\n",
    "            y = self.label_transforms(y)\n",
    "        else:\n",
    "            y = torch.tensor(y)\n",
    "\n",
    "        return x, y"
   ]
  },
  {
   "cell_type": "code",
   "execution_count": null,
   "metadata": {},
   "outputs": [],
   "source": [
    "# Data loading\n",
    "image_transforms = transforms.Compose(\n",
    "    [\n",
    "        # Add data augmetation ?\n",
    "        transforms.ToTensor(),\n",
    "    ]\n",
    ")\n",
    "\n",
    "target_transforms = None\n",
    "\n",
    "# load the training data\n",
    "train_set = NpArrayDataset(\n",
    "    images=..., labels=..., image_transforms=image_transforms, label_transforms=target_transforms\n",
    ")\n",
    "train_loader = DataLoader(train_set, batch_size=64, shuffle=True)\n",
    "\n",
    "# load the validation data\n",
    "validation_set = NpArrayDataset(\n",
    "    images=..., labels=..., image_transforms=image_transforms, label_transforms=target_transforms\n",
    ")\n",
    "val_loader = DataLoader(validation_set, batch_size=64, shuffle=True)"
   ]
  },
  {
   "cell_type": "markdown",
   "metadata": {},
   "source": [
    "define your model, fill the blanks\n",
    "\n",
    "Be careful, this time we are zero padding images so convolutions do not reduce image size !\n",
    "\n",
    "![padding](https://raw.githubusercontent.com/vdumoulin/conv_arithmetic/master/gif/same_padding_no_strides.gif)"
   ]
  },
  {
   "cell_type": "code",
   "execution_count": null,
   "metadata": {
    "lines_to_next_cell": 2
   },
   "outputs": [],
   "source": [
    "def model_fn(num_classes: int = 2):\n",
    "\n",
    "    model = nn.Sequential(\n",
    "        # size: 3 x 64 x 64\n",
    "        nn.Conv2d(in_channels=3, out_channels=32, kernel_size=3, padding=1),\n",
    "        # size: 32 x 64 x 64\n",
    "        nn.ReLU(),\n",
    "        nn.Conv2d(in_channels=..., out_channels=32, kernel_size=3, padding=1),\n",
    "        nn.ReLU(),\n",
    "        nn.MaxPool2d(2),\n",
    "        # size: 32 x 32 x 32\n",
    "        nn.Conv2d(in_channels=32, out_channels=64, kernel_size=3, padding=1),\n",
    "        nn.ReLU(),\n",
    "        nn.Conv2d(in_channels=64, out_channels=64, kernel_size=3, padding=1),\n",
    "        nn.ReLU(),\n",
    "        # size: 64 x 32 x 32\n",
    "        nn.MaxPool2d(2),\n",
    "        # size: 32 x ? x ?\n",
    "        nn.Conv2d(in_channels=..., out_channels=128, kernel_size=3, padding=1),\n",
    "        nn.ReLU(),\n",
    "        nn.Conv2d(in_channels=..., out_channels=128, kernel_size=3, padding=1),\n",
    "        nn.ReLU(),\n",
    "        nn.MaxPool2d(2),\n",
    "        # size: ? x ? x ?\n",
    "        nn.Conv2d(in_channels=128, out_channels=128, kernel_size=3, padding=1),\n",
    "        nn.ReLU(),\n",
    "        nn.Conv2d(in_channels=..., out_channels=128, kernel_size=3, padding=1),\n",
    "        nn.ReLU(),\n",
    "        nn.MaxPool2d(2),\n",
    "        # size: ? x ? x ?\n",
    "        nn.Flatten(),\n",
    "        nn.Linear(in_features=..., out_features=256),\n",
    "        nn.ReLU(),\n",
    "        nn.Dropout(p=0.25),\n",
    "        nn.Linear(in_features=256, out_features=64),\n",
    "        nn.ReLU(),\n",
    "        nn.Dropout(p=0.25),\n",
    "        nn.Linear(in_features=64, out_features=num_classes),\n",
    "        nn.LogSoftmax(dim=-1),\n",
    "    )\n",
    "\n",
    "    return model\n",
    "\n",
    "model = model_fn(num_classes=2)\n",
    "\n",
    "model.to(DEVICE)"
   ]
  },
  {
   "cell_type": "code",
   "execution_count": null,
   "metadata": {},
   "outputs": [],
   "source": [
    "print(model)"
   ]
  },
  {
   "cell_type": "code",
   "execution_count": null,
   "metadata": {},
   "outputs": [],
   "source": [
    "# declare optimizers and loss\n",
    "optimizer = ...\n",
    "criterion = ..."
   ]
  },
  {
   "cell_type": "code",
   "execution_count": null,
   "metadata": {},
   "outputs": [],
   "source": [
    "# ignite imports\n",
    "import ignite.engine\n",
    "import ignite.handlers\n",
    "import ignite.metrics\n",
    "import ignite.utils\n",
    "from ignite.engine import Events"
   ]
  },
  {
   "cell_type": "code",
   "execution_count": null,
   "metadata": {},
   "outputs": [],
   "source": [
    "# ignite engine configuration (modify as you wish)\n",
    "\n",
    "dataset_name = \"aircrafts\"\n",
    "\n",
    "trainer = ignite.engine.create_supervised_trainer(model=model, optimizer=optimizer, loss_fn=criterion, device=DEVICE)\n",
    "\n",
    "# create metrics\n",
    "metrics = {\n",
    "    \"accuracy\": ignite.metrics.Accuracy(),\n",
    "    \"nll\": ignite.metrics.Loss(criterion),\n",
    "    \"cm\": ignite.metrics.ConfusionMatrix(num_classes=2),\n",
    "}\n",
    "\n",
    "ignite.metrics.RunningAverage(output_transform=lambda x: x).attach(trainer, \"loss\")\n",
    "\n",
    "# Evaluators\n",
    "train_evaluator = ignite.engine.create_supervised_evaluator(model, metrics=metrics, device=DEVICE)\n",
    "val_evaluator = ignite.engine.create_supervised_evaluator(model, metrics=metrics, device=DEVICE)\n",
    "\n",
    "# Logging\n",
    "train_evaluator.logger = ignite.utils.setup_logger(\"train\")\n",
    "val_evaluator.logger = ignite.utils.setup_logger(\"val\")\n",
    "\n",
    "# Add checkpointer\n",
    "# You can modify this to add checkpointing of best models\n",
    "checkpointer = ignite.handlers.ModelCheckpoint(\n",
    "    \"./saved_models\",\n",
    "    filename_prefix=dataset_name,\n",
    "    n_saved=2,\n",
    "    create_dir=True,\n",
    "    save_as_state_dict=True,\n",
    "    require_empty=False,\n",
    ")\n",
    "trainer.add_event_handler(Events.EPOCH_COMPLETED, checkpointer, {model_name: model})\n",
    "\n",
    "# Add early stopping\n",
    "def score_function(engine):\n",
    "    val_loss = engine.state.metrics[\"nll\"]\n",
    "    return -val_loss\n",
    "\n",
    "\n",
    "handler = EarlyStopping(patience=10, score_function=score_function, trainer=trainer)\n",
    "\n",
    "val_evaluator.add_event_handler(Events.COMPLETED, handler)\n",
    "\n",
    "# init variables for logging\n",
    "training_history = {\"accuracy\": [], \"loss\": []}\n",
    "validation_history = {\"accuracy\": [], \"loss\": []}\n",
    "last_epoch = []\n",
    "\n",
    "\n",
    "@trainer.on(Events.EPOCH_COMPLETED)\n",
    "def log_training_results(trainer):\n",
    "    train_evaluator.run(train_loader)\n",
    "    metrics = train_evaluator.state.metrics\n",
    "    accuracy = metrics[\"accuracy\"] * 100\n",
    "    loss = metrics[\"nll\"]\n",
    "    last_epoch.append(0)\n",
    "    training_history[\"accuracy\"].append(accuracy)\n",
    "    training_history[\"loss\"].append(loss)\n",
    "    print(\n",
    "        \"Training Results - Epoch: {}  Avg accuracy: {:.2f} Avg loss: {:.2f}\".format(\n",
    "            trainer.state.epoch, accuracy, loss\n",
    "        )\n",
    "    )\n",
    "\n",
    "\n",
    "@trainer.on(Events.EPOCH_COMPLETED)\n",
    "def log_validation_results(trainer):\n",
    "    val_evaluator.run(val_loader)\n",
    "    metrics = val_evaluator.state.metrics\n",
    "    accuracy = metrics[\"accuracy\"] * 100\n",
    "    loss = metrics[\"nll\"]\n",
    "    validation_history[\"accuracy\"].append(accuracy)\n",
    "    validation_history[\"loss\"].append(loss)\n",
    "    print(\n",
    "        \"Validation Results - Epoch: {}  Avg accuracy: {:.2f} Avg loss: {:.2f}\".format(\n",
    "            trainer.state.epoch, accuracy, loss\n",
    "        )\n",
    "    )"
   ]
  },
  {
   "cell_type": "code",
   "execution_count": null,
   "metadata": {},
   "outputs": [],
   "source": [
    "# Run your training and plot your train/val metrics"
   ]
  },
  {
   "cell_type": "markdown",
   "metadata": {},
   "source": [
    "### Test metrics, introduction to PR Curves\n",
    "\n",
    "During the previous notebook you plotted the Receiver Operating Characteristic curve. This is not ideal when dealing with imbalanced dataset since the issue of class imbalance can result in a serious bias towards the majority class, reducing the classification performance and increasing the number of **false positives**. Furthermore, in ROC curve calculation, true negatives don't have such meaning any longer.\n",
    "\n",
    "Instead this time we will plot the Precision Recall curve of our model which uses precision and recall to evaluate models.\n",
    "\n",
    "![](https://cdn-images-1.medium.com/fit/t/1600/480/1*Ub0nZTXYT8MxLzrz0P7jPA.png)\n",
    "\n",
    "Refer here for a tutorial on how to plot such curve:\n",
    "\n",
    "https://scikit-learn.org/stable/modules/generated/sklearn.metrics.precision_recall_curve.html\n",
    "\n",
    "More details on PR Curve:\n",
    "\n",
    "https://scikit-learn.org/stable/auto_examples/model_selection/plot_precision_recall.html\n",
    "\n",
    "https://www.datascienceblog.net/post/machine-learning/interpreting-roc-curves-auc/\n",
    "\n",
    "**e. Plot the ROC curve of your model as well as its PR Curve, on the test set, compare them, which is easier to interpret ?**\n",
    "\n",
    "**f. Can you understand why PR curve may be more useful than ROC curve for diagnosing model performance when dealing with imbalanced data ?**\n",
    "\n",
    "**g. What is Fbeta-Score ? How can it help ? How do you chose beta?**\n",
    "\n",
    "Some reading: https://towardsdatascience.com/on-roc-and-precision-recall-curves-c23e9b63820c"
   ]
  },
  {
   "cell_type": "code",
   "execution_count": null,
   "metadata": {},
   "outputs": [],
   "source": [
    "# e & f here"
   ]
  },
  {
   "cell_type": "markdown",
   "metadata": {},
   "source": [
    "## Q2. Let's improve our model's performance\n",
    "\n",
    "We will try several things below. Those steps are only indicative and you are free to pursue other means of improving your model.\n",
    "\n",
    "Should you be lost, we refer you to the excellent \"A Recipe for Training Neural Networks\" article : https://karpathy.github.io/2019/04/25/recipe/\n",
    "\n",
    "![image.png](docs/static/img/mlsystem.png)"
   ]
  },
  {
   "cell_type": "markdown",
   "metadata": {},
   "source": [
    "### a. Tackling the imbalanced data problem\n",
    "\n",
    "Go through your data: is the dataset balanced ? If now, which steps can I do to solve this imbalance problem ?\n",
    "\n",
    "- Which step would you take ?\n",
    "- **Don't forget to apply the same step on you train and validation dataset** but **not on your test set** as your test set should represent the final data distribution\n",
    "\n",
    "Try to decide and a method to modify only the dataset and rerun your training. Did performance improve ?\n",
    "\n",
    "\n",
    "HINT:\n",
    "- It's usually a mix of oversampling the minority class and undersampling the majority class\n",
    "\n",
    "Some readings:\n",
    "- https://www.kaggle.com/rafjaa/resampling-strategies-for-imbalanced-datasets (very well done)\n",
    "- https://machinelearningmastery.com/framework-for-imbalanced-classification-projects/ (a bigger synthesis)\n",
    "- https://machinelearningmastery.com/category/imbalanced-classification/"
   ]
  },
  {
   "cell_type": "code",
   "execution_count": null,
   "metadata": {},
   "outputs": [],
   "source": [
    "# Q2.a here"
   ]
  },
  {
   "cell_type": "markdown",
   "metadata": {},
   "source": [
    "### b. Optimizer and other hyperparameters modifications\n",
    "\n",
    "i ) Now that you have worked on your dataset and decided to undersample it, it's time to tune your network and your training configuration\n",
    "\n",
    "In Session 1, you tested two different optimizers. What is the effect of its modification? Apply it to your training and compare metrics.\n",
    "\n",
    "ii ) An other important parameter is the learning rate, you can [check its effect on the behavior of your training](https://developers.google.com/machine-learning/crash-course/fitter/graph)."
   ]
  },
  {
   "cell_type": "code",
   "execution_count": null,
   "metadata": {},
   "outputs": [],
   "source": []
  },
  {
   "cell_type": "markdown",
   "metadata": {},
   "source": [
    "### c. Going Further\n",
    "\n",
    "Here is an overview of [possible hyperparameter tuning when training Convolutional Neural Networks](https://towardsdatascience.com/hyper-parameter-tuning-techniques-in-deep-learning-4dad592c63c8)\n",
    "\n",
    "You can try and apply those techniques to your use case.\n",
    "\n",
    "- Does these techniques yield good results ? What about the effort-spent-for-performance ratio ?\n",
    "- Do you find it easy to keep track of your experiments ?\n",
    "- What would you need to have a better overview of the effects of these search ?\n",
    "\n",
    "Don't spend too much time on this part as the next is more important. You can come back to it after you're finished"
   ]
  },
  {
   "cell_type": "code",
   "execution_count": null,
   "metadata": {},
   "outputs": [],
   "source": [
    "# Q2.c here"
   ]
  },
  {
   "cell_type": "markdown",
   "metadata": {},
   "source": [
    "### d. [Optional] Model architecture modification\n",
    "\n",
    "There are no absolute law concerning the structure of your deep Learning model. During the [Deep Learning class](%matplotlib inline) you had an overview of existing models\n",
    "\n",
    "You can operate a modification on your structure and observe the effect on final metrics. Of course, remain consistent with credible models, cf Layer Patterns chapter on this \"must view\" course : http://cs231n.github.io/convolutional-networks/\n",
    "\n",
    "<img src=\"docs/static/img/comparison_architectures.png\" alt=\"pokemon\" style=\"width: 400px;\"/>\n",
    "\n",
    "\n",
    "You can also use off the shelf architecture provided by torchvision, for example:\n",
    "\n",
    "```python\n",
    "import torchvision.models\n",
    "\n",
    "resnet18 = torchvision.models.resnet18(num_classes=2)\n",
    "```\n",
    "\n",
    "You can also use [transfer learning](https://machinelearningmastery.com/transfer-learning-for-deep-learning/) to \"finetune\" already trained features on your dataset\n",
    "\n",
    "[Please refer to this example on transfer learning](https://nbviewer.jupyter.org/github/pytorch/ignite/blob/master/examples/notebooks/EfficientNet_Cifar100_finetuning.ipynb)"
   ]
  },
  {
   "cell_type": "code",
   "execution_count": null,
   "metadata": {},
   "outputs": [],
   "source": []
  },
  {
   "cell_type": "markdown",
   "metadata": {},
   "source": [
    "## Q3. Full Test whole dataset & more improvements\n",
    "\n",
    "a. Now that you have optimised your structure for your dataset, you will apply your model to the test dataset to see the final metrics. Plot all your metrics using the full imbalanced test set. Is it good enough ?\n",
    "If you think so, you can apply it to new images using the sliding window technique with the 3rd notebook\n",
    "\n",
    "- Did it bring any improvements ?"
   ]
  },
  {
   "cell_type": "code",
   "execution_count": null,
   "metadata": {},
   "outputs": [],
   "source": [
    "# Q3a"
   ]
  },
  {
   "cell_type": "markdown",
   "metadata": {},
   "source": [
    "b. If you're not satisfied with the output of your model, consider the following idea: Training a new model with the failures of your previous model.\n",
    "Try the following:\n",
    "- Get all the images with the \"aircraft\" label\n",
    "- Get all the images with the \"background\" label where your best model was wrong (predicted aircraft), as well as some of the background where it was right.\n",
    "- Train a new model or retrain your existing one on this dataset.\n"
   ]
  },
  {
   "cell_type": "code",
   "execution_count": null,
   "metadata": {},
   "outputs": [],
   "source": [
    "# Q3b"
   ]
  },
  {
   "cell_type": "markdown",
   "metadata": {},
   "source": [
    "c . **SAVE YOUR MODEL**"
   ]
  },
  {
   "cell_type": "code",
   "execution_count": null,
   "metadata": {},
   "outputs": [],
   "source": [
    "# Q3c"
   ]
  },
  {
   "cell_type": "markdown",
   "metadata": {},
   "source": [
    "**Have you saved your model ??** You will need it for the next notebook"
   ]
  }
 ],
 "metadata": {
  "jupytext": {
   "cell_metadata_json": true,
   "formats": "ipynb,py:percent"
  },
  "kernelspec": {
   "display_name": "Python 3",
   "language": "python",
   "name": "python3"
  }
 },
 "nbformat": 4,
 "nbformat_minor": 4
}
