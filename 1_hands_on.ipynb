{
  "nbformat": 4,
  "nbformat_minor": 5,
  "metadata": {
    "jupytext": {
      "cell_metadata_json": true,
      "encoding": "# -*- coding: utf-8 -*-",
      "formats": "ipynb,py:percent"
    },
    "kernelspec": {
      "display_name": "Python 3 (ipykernel)",
      "language": "python",
      "name": "python3"
    },
    "colab": {
      "name": "1_hands_on.ipynb",
      "provenance": []
    }
  },
  "cells": [
    {
      "cell_type": "markdown",
      "metadata": {
        "id": "41f0eb3e",
        "tags": []
      },
      "source": [
        "# Session 1 : Training your first aircraft classifier with pytorch\n",
        "\n",
        "<a rel=\"license\" href=\"http://creativecommons.org/licenses/by-nc-sa/4.0/\"><img alt=\"Creative Commons License\" align=\"left\" src=\"https://i.creativecommons.org/l/by-nc-sa/4.0/80x15.png\" /></a>&nbsp;| Florient Chouteau | <a href=\"https://supaerodatascience.github.io/deep-learning/\">https://supaerodatascience.github.io/deep-learning/</a>"
      ],
      "id": "41f0eb3e"
    },
    {
      "cell_type": "markdown",
      "metadata": {
        "id": "3f79fffb",
        "tags": []
      },
      "source": [
        "## Intro\n",
        "\n",
        "The objectives of this session is to apply what you learned during [the previous class on Deep Learning](https://supaerodatascience.github.io/deep-learning/) on a real dataset of satellite images.\n",
        "\n",
        "Most of the vocabulary and concepts of Deep Learning and Convolutionnal Neural Network has been defined on the class linked above so you should refer to it.\n",
        "\n",
        "In this session you will:\n",
        "- Train a basic NN on a basic dataset\n",
        "- Plot ROC curve & confusion matrix to diagnose your dataset\n",
        "\n",
        "During session 2 you will be experimenting with harder datasets\n",
        "\n",
        "If you haven't done so, go to the previous notebooks to get a hands on pytorch and CNNs"
      ],
      "id": "3f79fffb"
    },
    {
      "cell_type": "code",
      "metadata": {
        "id": "5a75ee33"
      },
      "source": [
        "%matplotlib inline"
      ],
      "id": "5a75ee33",
      "execution_count": 1,
      "outputs": []
    },
    {
      "cell_type": "code",
      "metadata": {
        "id": "5ebe5040"
      },
      "source": [
        "# Put your imports here\n",
        "import numpy as np"
      ],
      "id": "5ebe5040",
      "execution_count": null,
      "outputs": []
    },
    {
      "cell_type": "markdown",
      "metadata": {
        "id": "76923f59"
      },
      "source": [
        "## Dataset\n",
        "\n",
        "Récupération et exploration du datset"
      ],
      "id": "76923f59"
    },
    {
      "cell_type": "code",
      "metadata": {
        "id": "2049a6bf"
      },
      "source": [
        "# Configuration variables\n",
        "TOY_DATASET_URL = \"https://storage.googleapis.com/fchouteau-isae-deep-learning/toy_aircraft_dataset.npz\""
      ],
      "id": "2049a6bf",
      "execution_count": null,
      "outputs": []
    },
    {
      "cell_type": "markdown",
      "metadata": {
        "id": "9cbb8d1c"
      },
      "source": [
        "### Image (reminders)\n",
        "\n",
        "A digital image is an image composed of picture elements, also known as pixels, each with finite, discrete quantities of numeric representation for its intensity or gray level that is an output from its two-dimensional functions fed as input by its spatial coordinates denoted with x, y on the x-axis and y-axis, respectively.\n",
        "\n",
        "We represent images as matrixes,\n",
        "\n",
        "Images are made of pixels, and pixels are made of combinations of primary colors (in our case Red, Green and Blue). In this context, images have chanels that are the grayscale image of the same size as a color image, made of just one of these primary colors. For instance, an image from a standard digital camera will have a red, green and blue channel. A grayscale image has just one channel.\n",
        "\n",
        "In geographic information systems, channels are often referred to as raster bands.\n",
        "\n",
        "![img](https://static.packt-cdn.com/products/9781789613964/graphics/e91171a3-f7ea-411e-a3e1-6d3892b8e1e5.png)\n",
        "\n",
        "\n",
        "For the rest of this workshop we will use the following axis conventions for images\n",
        "\n",
        "![conventions](https://storage.googleapis.com/fchouteau-isae-deep-learning/static/image_coordinates.png)"
      ],
      "id": "9cbb8d1c"
    },
    {
      "cell_type": "markdown",
      "metadata": {
        "id": "a03d59d2"
      },
      "source": [
        "### Downloading the dataset\n",
        "\n",
        "We will be using [numpy datasources](https://docs.scipy.org/doc/numpy/reference/generated/numpy.DataSource.html?highlight=datasources) to download the dataset. DataSources can be local files or remote files/URLs. The files may also be compressed or uncompressed. DataSource hides some of the low-level details of downloading the file, allowing you to simply pass in a valid file path (or URL) and obtain a file object.\n",
        "\n",
        "The dataset is in npz format which is a packaging format where we store several numpy arrays in key-value format\n",
        "\n",
        "Note:\n",
        "If you get an error with the code below run:\n",
        "```python\n",
        "!gsutil -m cp -r gs://isae-deep-learning/toy_aircraft_dataset.npz /tmp/storage.googleapis.com/isae-deep-learning/toy_aircraft_dataset.npz\n",
        "```\n",
        "in a cell above the cell below"
      ],
      "id": "a03d59d2"
    },
    {
      "cell_type": "code",
      "metadata": {
        "id": "145ad8e5"
      },
      "source": [
        "ds = np.DataSource(destpath=\"/tmp/\")\n",
        "f = ds.open(TOY_DATASET_URL, \"rb\")\n",
        "\n",
        "toy_dataset = np.load(f)\n",
        "trainval_images = toy_dataset[\"train_images\"]\n",
        "trainval_labels = toy_dataset[\"train_labels\"]\n",
        "test_images = toy_dataset[\"test_images\"]\n",
        "test_labels = toy_dataset[\"test_labels\"]"
      ],
      "id": "145ad8e5",
      "execution_count": null,
      "outputs": []
    },
    {
      "cell_type": "markdown",
      "metadata": {
        "id": "9026ffd5"
      },
      "source": [
        "### A bit of data exploration"
      ],
      "id": "9026ffd5"
    },
    {
      "cell_type": "markdown",
      "metadata": {
        "id": "8eb8c1ac"
      },
      "source": [
        "**Q1. Labels counting**\n",
        "\n",
        "a. What is the dataset size ?\n",
        "\n",
        "b. How many images representing aircrafts ?\n",
        "\n",
        "c. How many images representing backgrounds ?\n",
        "\n",
        "d. What are the dimensions (height and width) of the images ? What are the number of channels ?"
      ],
      "id": "8eb8c1ac"
    },
    {
      "cell_type": "markdown",
      "metadata": {
        "id": "6cecb71d"
      },
      "source": [
        "**Q2. Can you plot at least 8 examples of each label ? In a 4x4 grid ?**"
      ],
      "id": "6cecb71d"
    },
    {
      "cell_type": "markdown",
      "metadata": {
        "id": "8f515509"
      },
      "source": [
        "Here are some examples that help you answer this question. Try them and make your own. A well-understandood dataset is the key to an efficient model."
      ],
      "id": "8f515509"
    },
    {
      "cell_type": "code",
      "metadata": {
        "id": "3eea8d21"
      },
      "source": [
        "import cv2\n",
        "import matplotlib.pyplot as plt"
      ],
      "id": "3eea8d21",
      "execution_count": null,
      "outputs": []
    },
    {
      "cell_type": "code",
      "metadata": {
        "id": "ebd62731"
      },
      "source": [
        "LABEL_NAMES = [\"Not an aircraft\", \"Aircraft\"]\n",
        "\n",
        "print(\"Labels counts :\")\n",
        "for l, c, label in zip(*np.unique(trainval_labels, return_counts=True), LABEL_NAMES):\n",
        "    print(f\" Label: {label} , value: {l}, count: {c}\")\n",
        "\n",
        "for l, label in enumerate(LABEL_NAMES):\n",
        "    print(f\"Examples shape for label {l} : {trainval_images[trainval_labels == l, ::].shape}\")"
      ],
      "id": "ebd62731",
      "execution_count": null,
      "outputs": []
    },
    {
      "cell_type": "code",
      "metadata": {
        "id": "aef45d5e"
      },
      "source": [
        "LABEL_NAMES = [\"Not an aircraft\", \"Aircraft\"]\n",
        "\n",
        "print(\"Labels counts :\")\n",
        "for l, c, label in zip(*np.unique(test_labels, return_counts=True), LABEL_NAMES):\n",
        "    print(f\" Label: {label} , value: {l}, count: {c}\")\n",
        "\n",
        "for l, label in enumerate(LABEL_NAMES):\n",
        "    print(f\"Examples shape for label {l} : {test_images[test_labels == l, ::].shape}\")"
      ],
      "id": "aef45d5e",
      "execution_count": null,
      "outputs": []
    },
    {
      "cell_type": "code",
      "metadata": {
        "id": "b1a59d42"
      },
      "source": [
        "grid_size = 4\n",
        "grid = np.zeros((grid_size * 64, grid_size * 64, 3)).astype(np.uint8)\n",
        "for i in range(grid_size):\n",
        "    for j in range(grid_size):\n",
        "        tile = np.copy(trainval_images[i * grid_size + j])\n",
        "        label = np.copy(trainval_labels[i * grid_size + j])\n",
        "        color = (0, 255, 0) if label == 1 else (255, 0, 0)\n",
        "        tile = cv2.rectangle(tile, (0, 0), (64, 64), color, thickness=2)\n",
        "        grid[i * 64 : (i + 1) * 64, j * 64 : (j + 1) * 64, :] = tile\n",
        "\n",
        "fig = plt.figure(figsize=(10, 10))\n",
        "ax = fig.add_subplot(1, 1, 1)\n",
        "ax.imshow(grid)\n",
        "plt.show()"
      ],
      "id": "b1a59d42",
      "execution_count": null,
      "outputs": []
    },
    {
      "cell_type": "markdown",
      "metadata": {
        "id": "1d399b13"
      },
      "source": [
        "### A bit about train-test\n",
        "\n",
        "You just downloaded a training and a test set.\n",
        "\n",
        "- We use the training set for forward/backward\n",
        "- We use the validation set to tune hyperparameters (optimizers, early stopping)\n",
        "- We use the test set for final metrics on our tuned model\n",
        "\n",
        "![](https://i.stack.imgur.com/osBuF.png)\n",
        "\n",
        "For more information as to why we use train/validation and test refer to these articles:\n",
        "\n",
        "- https://towardsdatascience.com/train-validation-and-test-sets-72cb40cba9e7\n",
        "- https://www.freecodecamp.org/news/what-to-do-when-your-training-and-testing-data-come-from-different-distributions-d89674c6ecd8/\n",
        "- https://kevinzakka.github.io/2016/09/26/applying-deep-learning/\n",
        "\n",
        "We will now create our validation dataset,\n",
        "\n",
        "Since we know the dataset is balanced, we can evenly sample from the dataset without taking too many risks\n",
        "\n",
        "We will do a 80/20 sampling"
      ],
      "id": "1d399b13"
    },
    {
      "cell_type": "code",
      "metadata": {
        "id": "9b113ca2"
      },
      "source": [
        "idxs = np.random.permutation(np.arange(trainval_images.shape[0]))\n",
        "\n",
        "train_idxs, val_idxs = idxs[: int(0.8 * len(idxs))], idxs[int(0.8 * len(idxs)) :]\n",
        "\n",
        "train_images = trainval_images[train_idxs]\n",
        "train_labels = trainval_labels[train_idxs]\n",
        "val_images = trainval_images[val_idxs]\n",
        "val_labels = trainval_labels[val_idxs]"
      ],
      "id": "9b113ca2",
      "execution_count": null,
      "outputs": []
    },
    {
      "cell_type": "code",
      "metadata": {
        "id": "7916c2e6"
      },
      "source": [
        "train_images.shape"
      ],
      "id": "7916c2e6",
      "execution_count": null,
      "outputs": []
    },
    {
      "cell_type": "markdown",
      "metadata": {
        "id": "ec729b86"
      },
      "source": [
        "What is the mean of our data ? \n",
        "Whats is the standard deviation ?"
      ],
      "id": "ec729b86"
    },
    {
      "cell_type": "code",
      "metadata": {
        "id": "4355f2ad"
      },
      "source": [
        "# Compute the dataset statistics in [0.,1.], we're going to use it to normalize our data\n",
        "\n",
        "mean = np.mean(train_images, axis=(0, 1, 2)) / 255.0\n",
        "std = np.std(train_images, axis=(0, 1, 2)) / 255.0\n",
        "\n",
        "mean, std"
      ],
      "id": "4355f2ad",
      "execution_count": null,
      "outputs": []
    },
    {
      "cell_type": "markdown",
      "metadata": {
        "id": "0034154a"
      },
      "source": [
        "## Preparing our training\n",
        "\n",
        "Remember that training a deep learning model requires:\n",
        "\n",
        "- Defining a model to train\n",
        "- Defining a loss function (cost function) to compute gradients with\n",
        "- Defining an optimizer to update parameters\n",
        "- Putting the model on the accelerator device that trains very fast (GPU, TPU)... You'll learn about GPUs later :)\n",
        "\n",
        "![](https://pbs.twimg.com/media/E_1d06cVIAcYheX?format=jpg)\n",
        "\n",
        "The training loop is \"quite basic\" : We loop over samples of the dataset (in batches) several times over :\n",
        "\n",
        "![](https://pbs.twimg.com/media/E_1d06XVcA8Dhzs?format=jpg)\n"
      ],
      "id": "0034154a"
    },
    {
      "cell_type": "code",
      "metadata": {
        "id": "df384cbe",
        "lines_to_next_cell": 1
      },
      "source": [
        "from typing import Callable\n",
        "\n",
        "import torch\n",
        "import torch.nn.functional as F\n",
        "from PIL import Image\n",
        "from torch import nn, optim\n",
        "from torch.utils.data import DataLoader, Dataset\n",
        "from torchvision import datasets, transforms"
      ],
      "id": "df384cbe",
      "execution_count": null,
      "outputs": []
    },
    {
      "cell_type": "markdown",
      "metadata": {
        "id": "cc964d23"
      },
      "source": [
        "### Defining Dataset & Transforms\n",
        "\n",
        "First, we need to tell pytorch how to load our data.\n",
        "\n",
        "Have a look at : https://pytorch.org/tutorials/beginner/basics/data_tutorial.html\n",
        "\n",
        "We write our own `torch.data.Dataset` class"
      ],
      "id": "cc964d23"
    },
    {
      "cell_type": "code",
      "metadata": {
        "id": "505e1c81"
      },
      "source": [
        "class NpArrayDataset(Dataset):\n",
        "    def __init__(\n",
        "        self,\n",
        "        images: np.ndarray,\n",
        "        labels: np.ndarray,\n",
        "        image_transforms: Callable = None,\n",
        "        label_transforms: Callable = None,\n",
        "    ):\n",
        "        self.images = images\n",
        "        self.labels = labels\n",
        "        self.image_transforms = image_transforms\n",
        "        self.label_transforms = label_transforms\n",
        "\n",
        "    def __len__(self):\n",
        "        return self.images.shape[0]\n",
        "\n",
        "    def __getitem__(self, index: int):\n",
        "        x = self.images[index]\n",
        "        y = self.labels[index]\n",
        "\n",
        "        if self.image_transforms is not None:\n",
        "            x = self.image_transforms(x)\n",
        "        else:\n",
        "            x = torch.tensor(x)\n",
        "\n",
        "        if self.label_transforms is not None:\n",
        "            y = self.label_transforms(y)\n",
        "        else:\n",
        "            y = torch.tensor(y)\n",
        "\n",
        "        return x, y"
      ],
      "id": "505e1c81",
      "execution_count": null,
      "outputs": []
    },
    {
      "cell_type": "markdown",
      "metadata": {
        "id": "cf60d164"
      },
      "source": [
        "Then we need to process our data (images) into \"tensors\" that torch can process, we define \"transforms\""
      ],
      "id": "cf60d164"
    },
    {
      "cell_type": "code",
      "metadata": {
        "id": "8b160416"
      },
      "source": [
        "# transform to convert np array in range [0,255] to torch.Tensor [0.,1.]\n",
        "# then normalize by doing x = (x - mean) / std\n",
        "image_transforms = transforms.Compose(\n",
        "    [\n",
        "        transforms.ToTensor(),\n",
        "        transforms.Normalize(mean, std),\n",
        "    ]\n",
        ")\n",
        "\n",
        "# here we don't have anything to do\n",
        "target_transforms = None"
      ],
      "id": "8b160416",
      "execution_count": null,
      "outputs": []
    },
    {
      "cell_type": "markdown",
      "metadata": {
        "id": "8affae3a"
      },
      "source": [
        "Now we put everything together into something to load our data"
      ],
      "id": "8affae3a"
    },
    {
      "cell_type": "code",
      "metadata": {
        "id": "51a2f1fb"
      },
      "source": [
        "# load the training data\n",
        "train_set = NpArrayDataset(\n",
        "    images=train_images, labels=train_labels, image_transforms=image_transforms, label_transforms=target_transforms\n",
        ")\n",
        "\n",
        "print(len(train_set))\n",
        "\n",
        "train_loader = DataLoader(train_set, batch_size=64, shuffle=True)\n",
        "\n",
        "# load the validation data\n",
        "validation_set = NpArrayDataset(\n",
        "    images=val_images, labels=val_labels, image_transforms=image_transforms, label_transforms=target_transforms\n",
        ")\n",
        "\n",
        "print(len(validation_set))\n",
        "\n",
        "val_loader = DataLoader(validation_set, batch_size=64, shuffle=True)"
      ],
      "id": "51a2f1fb",
      "execution_count": null,
      "outputs": []
    },
    {
      "cell_type": "markdown",
      "metadata": {
        "id": "a62c632c"
      },
      "source": [
        "### Check that your dataset outputs correct data\n",
        "\n",
        "Always to this as a sanity check to catch bugs in your data processing pipeline\n",
        "\n",
        "Write the inverse transformation by hand to ensure it's ok\n",
        "\n",
        "![andrej](https://storage.googleapis.com/fchouteau-isae-deep-learning/static/andrej_tweet_1.png)"
      ],
      "id": "a62c632c"
    },
    {
      "cell_type": "code",
      "metadata": {
        "id": "cb446d66"
      },
      "source": [
        "k = np.random.randint(len(train_set))\n",
        "x, y = train_set[k]\n",
        "\n",
        "# From torch\n",
        "# Inverse transform\n",
        "x = x.numpy()\n",
        "x = x.transpose((1, 2, 0))\n",
        "x = x * std + mean\n",
        "x = x.clip(0.0, 1.0)\n",
        "x = (x * 255.0).astype(np.uint8)\n",
        "\n",
        "print(\"Inverse transform is OK ?\")\n",
        "print(\"Label {}\".format(y))\n",
        "plt.imshow(x)\n",
        "plt.show()\n",
        "\n",
        "plt.imshow(train_set.images[k])\n",
        "plt.show()"
      ],
      "id": "cb446d66",
      "execution_count": null,
      "outputs": []
    },
    {
      "cell_type": "markdown",
      "metadata": {
        "id": "b6080283"
      },
      "source": [
        "Model"
      ],
      "id": "b6080283"
    },
    {
      "cell_type": "code",
      "metadata": {
        "id": "b3e5a60e"
      },
      "source": [
        "DEVICE = torch.device(\"cuda:0\" if torch.cuda.is_available() else \"cpu\")\n",
        "\n",
        "print(DEVICE)"
      ],
      "id": "b3e5a60e",
      "execution_count": null,
      "outputs": []
    },
    {
      "cell_type": "markdown",
      "metadata": {
        "id": "c7c7ce4f"
      },
      "source": [
        "### Defining a model\n",
        "\n",
        "Now we have to define a CNN to train. It's usually called a \"network\", and we define its \"architecture\".\n",
        "\n",
        "Defining a good architecture is a huge field of research (a pandora's box) that takes a lot of time, but we can define \"sane architectures\" easily:\n",
        "\n",
        "Basically, CNN architectures are a stacks of :\n",
        "- Convolution layers + non linearities\n",
        "- Pooling layer\n",
        "- A final \"activation\" layer at the end (for classification) that allows us to output probabilities\n",
        "\n",
        "![](https://cs231n.github.io/assets/cnn/convnet.jpeg)\n",
        "\n",
        "Let's define a model together:\n",
        "\n",
        "```python\n",
        "model = nn.Sequential(\n",
        "    # A block of 2 convolutions + non linearities & a pooling layers\n",
        "    # IN SHAPE (3,64,64)\n",
        "    nn.Conv2d(in_channels=3, out_channels=16, kernel_size=3),\n",
        "    # OUT SHAPE (16,62,62)\n",
        "    nn.ReLU(),\n",
        "    # IN SHAPE (16,62,62)\n",
        "    nn.Conv2d(in_channels=16, out_channels=16, kernel_size=3),\n",
        "    # OUT SHAPE (16,60,60)\n",
        "    nn.ReLU(),\n",
        "    nn.MaxPool2d(2),\n",
        "    # OUT SHAPE (16,30,30)\n",
        "    # Another stack of these\n",
        "    nn.Conv2d(in_channels=16, out_channels=32, kernel_size=3),\n",
        "    # OUT SHAPE (?,?,?)\n",
        "    nn.ReLU(),\n",
        "    nn.Conv2d(in_channels=32, out_channels=32, kernel_size=3),\n",
        "    nn.ReLU(),\n",
        "    nn.MaxPool2d(2),\n",
        "    # OUT SHAPE (?,?,?)\n",
        "    # Another stack of these\n",
        "    nn.Conv2d(in_channels=32, out_channels=64, kernel_size=3),\n",
        "    # OUT SHAPE (?,?,?)\n",
        "    nn.ReLU(),\n",
        "    nn.Conv2d(in_channels=64, out_channels=64, kernel_size=3),\n",
        "    # OUT SHAPE (?,?,?)\n",
        "    nn.ReLU(),\n",
        "    nn.MaxPool2d(2),\n",
        "    # OUT SHAPE (?,?,?)\n",
        "    # A final classifier\n",
        "    nn.Flatten(),\n",
        "    nn.Linear(in_features=4 * 4 * 64, out_features=256), # do you understand why 4 * 4 * 64 ?\n",
        "    nn.ReLU(),\n",
        "    nn.Dropout(p=0.25),\n",
        "    nn.Linear(in_features=256, out_features=64),\n",
        "    nn.ReLU(),\n",
        "    nn.Dropout(p=0.25),\n",
        "    nn.Linear(in_features=64, out_features=1),\n",
        "    nn.Sigmoid(),\n",
        ")\n",
        "```\n",
        "\n",
        "**Questions**\n",
        "\n",
        "Knowing that the input image size is (3,64,64), go through the model step by step,\n",
        "\n",
        "Can you fill the blanks for the shapes ?\n",
        "\n",
        "Do you understand why ? "
      ],
      "id": "c7c7ce4f"
    },
    {
      "cell_type": "code",
      "metadata": {
        "id": "50ff56ac"
      },
      "source": [
        "# Let's test this !\n",
        "\n",
        "model = nn.Sequential(\n",
        "    nn.Conv2d(in_channels=3, out_channels=16, kernel_size=3),\n",
        "    nn.ReLU(),\n",
        "    nn.Conv2d(in_channels=16, out_channels=16, kernel_size=3),\n",
        "    nn.ReLU(),\n",
        "    nn.MaxPool2d(2),\n",
        "    # Another stack of these\n",
        "    nn.Conv2d(in_channels=16, out_channels=32, kernel_size=3),\n",
        "    nn.ReLU(),\n",
        "    nn.Conv2d(in_channels=32, out_channels=32, kernel_size=3),\n",
        "    nn.ReLU(),\n",
        "    nn.MaxPool2d(2),\n",
        "    # Another stack of these\n",
        "    nn.Conv2d(in_channels=32, out_channels=64, kernel_size=3),\n",
        "    nn.ReLU(),\n",
        "    nn.Conv2d(in_channels=64, out_channels=64, kernel_size=3),\n",
        "    nn.ReLU(),\n",
        "    nn.MaxPool2d(2),\n",
        "    # A final classifier\n",
        "    nn.Flatten(),\n",
        "    nn.Linear(in_features=4 * 4 * 64, out_features=256),\n",
        "    nn.ReLU(),\n",
        "    nn.Dropout(p=0.25),\n",
        "    nn.Linear(in_features=256, out_features=64),\n",
        "    nn.ReLU(),\n",
        "    nn.Dropout(p=0.25),\n",
        "    nn.Linear(in_features=64, out_features=1),\n",
        "    nn.Sigmoid(),\n",
        ")\n",
        "\n",
        "x = torch.rand((16, 3, 64, 64))  # We define an input of dimensions batch_size, channels, height, width\n",
        "\n",
        "y = model(x)\n",
        "\n",
        "print(y.shape)\n",
        "\n",
        "# let's delete the model now, we won't need it\n",
        "\n",
        "del model"
      ],
      "id": "50ff56ac",
      "execution_count": null,
      "outputs": []
    },
    {
      "cell_type": "markdown",
      "metadata": {
        "id": "a49e6915"
      },
      "source": [
        "Do it yourself !"
      ],
      "id": "a49e6915"
    },
    {
      "cell_type": "code",
      "metadata": {
        "id": "c14f2fb4"
      },
      "source": [
        "# Let's define another model, except this time there are blanks ... it's up to you to fill them\n",
        "\n",
        "def model_fn():\n",
        "    model = nn.Sequential(\n",
        "        # A first convolution block\n",
        "        nn.Conv2d(in_channels=3, out_channels=16, kernel_size=3),\n",
        "        nn.ReLU(),\n",
        "        nn.Conv2d(in_channels=..., out_channels=16, kernel_size=3),\n",
        "        nn.ReLU(),\n",
        "        nn.MaxPool2d(2),\n",
        "        # Another stack of these\n",
        "        nn.Conv2d(in_channels=..., out_channels=32, kernel_size=3),\n",
        "        nn.ReLU(),\n",
        "        nn.Conv2d(in_channels=..., out_channels=..., kernel_size=3),\n",
        "        nn.ReLU(),\n",
        "        nn.Conv2d(in_channels=32, out_channels=32, kernel_size=3),\n",
        "        nn.ReLU(),\n",
        "        nn.MaxPool2d(2),\n",
        "        # A final classifier\n",
        "        nn.Flatten(),\n",
        "        nn.Linear(in_features=... * ... * ..., out_features=64),\n",
        "        nn.ReLU(),\n",
        "        nn.Dropout(p=0.1),\n",
        "        nn.Linear(in_features=64, out_features=1),\n",
        "        nn.Sigmoid(),\n",
        "    )\n",
        "\n",
        "    return model\n",
        "\n",
        "\n",
        "model = model_fn()\n",
        "\n",
        "print(model)\n",
        "\n",
        "x = torch.rand((16, 3, 64, 64))  # We define an input of dimensions batch_size, channels, height, width\n",
        "\n",
        "print(x.shape)\n",
        "\n",
        "y = model(x)\n",
        "\n",
        "print(y.shape)\n",
        "\n",
        "# THIS CELL SHOULD NOT GIVE AN ERROR !"
      ],
      "id": "c14f2fb4",
      "execution_count": null,
      "outputs": []
    },
    {
      "cell_type": "markdown",
      "metadata": {
        "id": "5519c558"
      },
      "source": [
        "Hint: The answer (and there can only be one) is :\n",
        "\n",
        "```python\n",
        "model = nn.Sequential(\n",
        "    # A first convolution block\n",
        "    nn.Conv2d(in_channels=3, out_channels=16, kernel_size=3),\n",
        "    nn.ReLU(),\n",
        "    nn.Conv2d(in_channels=16, out_channels=16, kernel_size=3),\n",
        "    nn.ReLU(),\n",
        "    nn.MaxPool2d(2),\n",
        "    # Another stack of these\n",
        "    nn.Conv2d(in_channels=16, out_channels=32, kernel_size=3),\n",
        "    nn.ReLU(),\n",
        "    nn.Conv2d(in_channels=32, out_channels=32, kernel_size=3),\n",
        "    nn.ReLU(),\n",
        "    nn.Conv2d(in_channels=32, out_channels=32, kernel_size=3),\n",
        "    nn.ReLU(),\n",
        "    nn.MaxPool2d(2),\n",
        "    # A final classifier\n",
        "    nn.Flatten(),\n",
        "    nn.Linear(in_features=12 * 12 * 32, out_features=64),\n",
        "    nn.ReLU(),\n",
        "    nn.Dropout(p=0.1),\n",
        "    nn.Linear(in_features=64, out_features=1),\n",
        "    nn.Sigmoid(),\n",
        ")\n",
        "```\n",
        "\n",
        "You should be able to understand this"
      ],
      "id": "5519c558"
    },
    {
      "cell_type": "code",
      "metadata": {
        "id": "4ab448d3"
      },
      "source": [
        "# moving model to gpu if available\n",
        "model = model.to(DEVICE)"
      ],
      "id": "4ab448d3",
      "execution_count": null,
      "outputs": []
    },
    {
      "cell_type": "markdown",
      "metadata": {
        "id": "a30158a4"
      },
      "source": [
        "### Defining our loss and optimizer\n",
        "\n",
        "Check the definition of the binary cross entropy:\n",
        "\n",
        "https://pytorch.org/docs/stable/generated/torch.nn.BCELoss.html#torch.nn.BCELoss"
      ],
      "id": "a30158a4"
    },
    {
      "cell_type": "code",
      "metadata": {
        "id": "e89721ca"
      },
      "source": [
        "criterion = nn.BCELoss(reduction=\"mean\")\n",
        "optimizer = optim.SGD(model.parameters(), lr=1e-2)"
      ],
      "id": "e89721ca",
      "execution_count": null,
      "outputs": []
    },
    {
      "cell_type": "markdown",
      "metadata": {
        "id": "2e1f1601"
      },
      "source": [
        "## Training with pytorch\n",
        "\n",
        "We will actually train the model, and plot training & validation metrics during training"
      ],
      "id": "2e1f1601"
    },
    {
      "cell_type": "code",
      "metadata": {
        "id": "ec9d080b"
      },
      "source": [
        "def train_one_epoch(model, train_loader):\n",
        "\n",
        "    epoch_loss = []\n",
        "\n",
        "    for i, batch in enumerate(train_loader):\n",
        "\n",
        "        # get one batch\n",
        "        x, y_true = batch\n",
        "        x = x.to(DEVICE)\n",
        "        y_true = y_true.to(DEVICE)\n",
        "\n",
        "        # format the y_true so that it is compatible with the loss\n",
        "        y_true = y_true.view((-1, 1)).float()\n",
        "\n",
        "        # zero the parameter gradients\n",
        "        optimizer.zero_grad()\n",
        "\n",
        "        # forward\n",
        "        y_pred = model(x)\n",
        "\n",
        "        # compute loss\n",
        "        loss = criterion(y_pred, y_true)\n",
        "\n",
        "        # backward\n",
        "        loss.backward()\n",
        "\n",
        "        # update parameters\n",
        "        optimizer.step()\n",
        "\n",
        "        # save statistics\n",
        "        epoch_loss.append(loss.item())\n",
        "\n",
        "        if i % 10 == 0:\n",
        "            print(f\"Batch {i}, curr loss = {loss.item():.03f}\")\n",
        "\n",
        "    return np.asarray(epoch_loss).mean()\n",
        "\n",
        "\n",
        "def valid_one_epoch(model, valid_loader):\n",
        "\n",
        "    epoch_loss = []\n",
        "\n",
        "    for i, batch in enumerate(valid_loader):\n",
        "        with torch.no_grad():\n",
        "            # get one batch\n",
        "            x, y_true = batch\n",
        "            x = x.to(DEVICE)\n",
        "            y_true = y_true.to(DEVICE)\n",
        "\n",
        "            # format the y_true so that it is compatible with the loss\n",
        "            y_true = y_true.view((-1, 1)).float()\n",
        "\n",
        "            # forward\n",
        "            y_pred = model(x)\n",
        "\n",
        "            # compute loss\n",
        "            loss = criterion(y_pred, y_true)\n",
        "\n",
        "            # save statistics\n",
        "            epoch_loss.append(loss.item())\n",
        "\n",
        "    return np.asarray(epoch_loss).mean()"
      ],
      "id": "ec9d080b",
      "execution_count": null,
      "outputs": []
    },
    {
      "cell_type": "code",
      "metadata": {
        "id": "4c55e042"
      },
      "source": [
        "EPOCHS = ...  # Set number of epochs\n",
        "\n",
        "# Send model to GPU\n",
        "model = model.to(DEVICE)\n",
        "\n",
        "train_losses = []\n",
        "valid_losses = []\n",
        "\n",
        "# loop over the dataset multiple times\n",
        "for epoch in range(EPOCHS):\n",
        "    model.train()\n",
        "    train_epoch_loss = train_one_epoch(model, train_loader)\n",
        "    model.eval()\n",
        "    valid_epoch_loss = valid_one_epoch(model, val_loader)\n",
        "\n",
        "    print(f\"EPOCH={epoch}, TRAIN={train_epoch_loss}, VAL={valid_epoch_loss}\")\n",
        "\n",
        "    train_losses.append(train_epoch_loss)\n",
        "    valid_losses.append(valid_epoch_loss)"
      ],
      "id": "4c55e042",
      "execution_count": null,
      "outputs": []
    },
    {
      "cell_type": "code",
      "metadata": {
        "id": "5afb8c3c"
      },
      "source": [
        "# Plot training / validation loss\n",
        "\n",
        "plt.plot(train_losses, label=\"Training Loss\")\n",
        "plt.plot(valid_losses, label=\"Validation Loss\")\n",
        "plt.xlabel(\"No. of Epochs\")\n",
        "plt.ylabel(\"Loss\")\n",
        "plt.legend(frameon=False)\n",
        "plt.show()"
      ],
      "id": "5afb8c3c",
      "execution_count": null,
      "outputs": []
    },
    {
      "cell_type": "markdown",
      "metadata": {
        "id": "a38451b1"
      },
      "source": [
        "Save the model"
      ],
      "id": "a38451b1"
    },
    {
      "cell_type": "code",
      "metadata": {
        "id": "193d9084"
      },
      "source": [
        "with open(\"model.pt\", \"wb\") as f:\n",
        "    torch.save(model.state_dict(), f)"
      ],
      "id": "193d9084",
      "execution_count": null,
      "outputs": []
    },
    {
      "cell_type": "markdown",
      "metadata": {
        "id": "c2fc296e"
      },
      "source": [
        "Now, clear the model from memory"
      ],
      "id": "c2fc296e"
    },
    {
      "cell_type": "code",
      "metadata": {
        "id": "5f41a61f"
      },
      "source": [
        "del model"
      ],
      "id": "5f41a61f",
      "execution_count": null,
      "outputs": []
    },
    {
      "cell_type": "markdown",
      "metadata": {
        "id": "51d817fc"
      },
      "source": [
        "## Testing and metrics\n",
        "\n",
        "Now that we have a trained network, it is important to measure how well it performs. We do not do that during training because theoretically we try to test on a context closer to how the final model will be used, meaning this can be another pipeline and is usually outside the training engine.\n",
        "\n",
        "You can refer to your ML course or on resources on the web to see how we can measure it."
      ],
      "id": "51d817fc"
    },
    {
      "cell_type": "markdown",
      "metadata": {
        "id": "e58f74e2"
      },
      "source": [
        "### Loading saved model"
      ],
      "id": "e58f74e2"
    },
    {
      "cell_type": "code",
      "metadata": {
        "id": "192c3f7b"
      },
      "source": [
        "# Instantiate a new empty model\n",
        "model = model_fn()\n",
        "\n",
        "print(model)\n",
        "\n",
        "# Load state\n",
        "checkpoint_path = \"model.pt\"\n",
        "model.load_state_dict(torch.load(checkpoint_path))\n",
        "\n",
        "print(\"Model Loaded\")"
      ],
      "id": "192c3f7b",
      "execution_count": null,
      "outputs": []
    },
    {
      "cell_type": "markdown",
      "metadata": {
        "id": "71d1ab26"
      },
      "source": [
        "### Inferencing on the test dataset\n",
        "\n",
        "Now we will run predictions on the test dataset using the newly loaded model"
      ],
      "id": "71d1ab26"
    },
    {
      "cell_type": "code",
      "metadata": {
        "id": "c9318d12"
      },
      "source": [
        "test_ds = NpArrayDataset(\n",
        "    images=test_images, labels=test_labels, image_transforms=image_transforms, label_transforms=target_transforms\n",
        ")"
      ],
      "id": "c9318d12",
      "execution_count": null,
      "outputs": []
    },
    {
      "cell_type": "code",
      "metadata": {
        "id": "6b8536e7"
      },
      "source": [
        "import tqdm"
      ],
      "id": "6b8536e7",
      "execution_count": null,
      "outputs": []
    },
    {
      "cell_type": "code",
      "metadata": {
        "id": "bbecc1f4"
      },
      "source": [
        "y_true = []\n",
        "y_pred = []\n",
        "\n",
        "# Send model to correct device\n",
        "model.to(DEVICE)\n",
        "\n",
        "# Put model in evaluatio mode (very important)\n",
        "model.eval()\n",
        "\n",
        "# Disable all gradients things\n",
        "with torch.no_grad():\n",
        "    for x, y_t in tqdm.tqdm(test_ds, \"predicting\"):\n",
        "        x = x.reshape((-1,) + x.shape)\n",
        "        x = x.to(DEVICE)\n",
        "        y = model.forward(x)\n",
        "        y = y.to(\"cpu\").numpy()\n",
        "\n",
        "        y_t = int(y_t.to(\"cpu\").numpy())\n",
        "\n",
        "        y_pred.append(y)\n",
        "        y_true.append(y_t)\n",
        "y_pred = np.concatenate(y_pred, axis=0)\n",
        "y_true = np.asarray(y_true)"
      ],
      "id": "bbecc1f4",
      "execution_count": null,
      "outputs": []
    },
    {
      "cell_type": "code",
      "metadata": {
        "id": "226861a5"
      },
      "source": [
        "print(y_pred.shape)\n",
        "\n",
        "print(y_pred[4])"
      ],
      "id": "226861a5",
      "execution_count": null,
      "outputs": []
    },
    {
      "cell_type": "code",
      "metadata": {
        "id": "6acc7c08"
      },
      "source": [
        "y_pred_classes = np.round(y_pred[:, 0])"
      ],
      "id": "6acc7c08",
      "execution_count": null,
      "outputs": []
    },
    {
      "cell_type": "markdown",
      "metadata": {
        "id": "08d7bd47"
      },
      "source": [
        "### Confusion matrix\n",
        "Here, we are first computing the [confusion matrix]():"
      ],
      "id": "08d7bd47"
    },
    {
      "cell_type": "code",
      "metadata": {
        "id": "9967b12a"
      },
      "source": [
        "from sklearn.metrics import confusion_matrix\n",
        "\n",
        "print(\"Confusion matrix\")\n",
        "confusion_matrix(y_true, y_pred_classes)"
      ],
      "id": "9967b12a",
      "execution_count": null,
      "outputs": []
    },
    {
      "cell_type": "markdown",
      "metadata": {
        "id": "2037841a"
      },
      "source": [
        "### ROC curve\n",
        "\n",
        "The next metric we are computing is the [ROC curve](https://scikit-learn.org/stable/auto_examples/model_selection/plot_roc.html).\n",
        "\n",
        "It used to choose a threshold on the output probability in case you are intesrested in controling the false positive rate."
      ],
      "id": "2037841a"
    },
    {
      "cell_type": "code",
      "metadata": {
        "id": "fa255aae"
      },
      "source": [
        "from sklearn.metrics import auc, roc_curve\n",
        "\n",
        "# Compute ROC curve and ROC area for each class\n",
        "\n",
        "y_pred = np.round(y_pred[:, 0], 3)\n",
        "\n",
        "fpr, tpr, thresholds = roc_curve(y_true, y_pred)\n",
        "roc_auc = auc(fpr, tpr)"
      ],
      "id": "fa255aae",
      "execution_count": null,
      "outputs": []
    },
    {
      "cell_type": "code",
      "metadata": {
        "id": "2fe165b2"
      },
      "source": [
        "plt.figure()\n",
        "lw = 2\n",
        "plt.plot(fpr, tpr, color=\"darkorange\", lw=lw, label=\"ROC curve (area = %0.2f)\" % roc_auc)\n",
        "plt.plot([0, 1], [0, 1], color=\"navy\", lw=lw, linestyle=\"--\")\n",
        "plt.xlim([0.0, 1.0])\n",
        "plt.ylim([0.0, 1.05])\n",
        "plt.xlabel(\"False Positive Rate\")\n",
        "plt.ylabel(\"True Positive Rate\")\n",
        "plt.title(\"Receiver operating characteristic example\")\n",
        "plt.legend(loc=\"lower right\")\n",
        "plt.show()"
      ],
      "id": "2fe165b2",
      "execution_count": null,
      "outputs": []
    },
    {
      "cell_type": "markdown",
      "metadata": {
        "id": "6ed97056"
      },
      "source": [
        "### Using the ROC curve\n",
        "\n",
        "The ROC curve can be used to select the best decision threshold for classifying an aircraft as positive.\n",
        "\n",
        "Plot the ROC curve with thresholds assigned to points in the curve (you can round the predictions for a simpler curve)\n",
        "\n",
        "Example to adapt, and add thresholds to the plot\n",
        "\n",
        "```python\n",
        "def plot_roc_curve(fpr, tpr):\n",
        "    plt.plot(fpr, tpr, color=\"orange\", label=\"ROC\")\n",
        "    plt.plot([0, 1], [0, 1], color=\"darkblue\", linestyle=\"--\")\n",
        "    plt.xlabel(\"False Positive Rate\")\n",
        "    plt.ylabel(\"True Positive Rate\")\n",
        "    plt.title(\"Receiver Operating Characteristic (ROC) Curve\")\n",
        "    plt.legend()\n",
        "    plt.show()\n",
        "\n",
        "\n",
        "y_true = np.array([0, 0, 1, 1, 1])\n",
        "y_scores = np.array([0.0, 0.09, 0.05, 0.75, 1])\n",
        "\n",
        "fpr, tpr, thresholds = roc_curve(y_true, y_scores)\n",
        "print(tpr)\n",
        "print(fpr)\n",
        "print(thresholds)\n",
        "print(auc(y_true, y_scores))\n",
        "optimal_idx = np.argmax(tpr - fpr)\n",
        "optimal_threshold = thresholds[optimal_idx]\n",
        "print(\"Threshold value is:\", optimal_threshold)\n",
        "plot_roc_curve(fpr, tpr)\n",
        "```"
      ],
      "id": "6ed97056"
    },
    {
      "cell_type": "code",
      "metadata": {
        "id": "b1995e55"
      },
      "source": [
        "# HERE !"
      ],
      "id": "b1995e55",
      "execution_count": null,
      "outputs": []
    },
    {
      "cell_type": "markdown",
      "metadata": {
        "id": "cfcf7cb3"
      },
      "source": [
        "### Misclassified examples\n",
        "\n",
        "It is always interesting to check mis classified examples.\n",
        "\n",
        "It usually provides tips on how to improve your model."
      ],
      "id": "cfcf7cb3"
    },
    {
      "cell_type": "code",
      "metadata": {
        "id": "f5e9908c"
      },
      "source": [
        "misclassified_idxs = np.where(y_pred_classes != y_true)[0]\n",
        "\n",
        "print(len(misclassified_idxs))\n",
        "\n",
        "print(misclassified_idxs)\n",
        "\n",
        "misclassified_images = test_images[misclassified_idxs]\n",
        "misclassified_labels = test_labels[misclassified_idxs]\n",
        "\n",
        "grid_size = 4\n",
        "grid = np.zeros((grid_size * 64, grid_size * 64, 3)).astype(np.uint8)\n",
        "for i in range(grid_size):\n",
        "    for j in range(grid_size):\n",
        "        img = np.copy(misclassified_images[i * grid_size + j])\n",
        "        lbl = np.copy(misclassified_labels[i * grid_size + j])\n",
        "        color = (0, 255, 0) if lbl == 1 else (255, 0, 0)\n",
        "        tile = cv2.rectangle(img, (0, 0), (64, 64), color, thickness=2)\n",
        "        grid[i * 64 : (i + 1) * 64, j * 64 : (j + 1) * 64, :] = img\n",
        "\n",
        "fig = plt.figure(figsize=(10, 10))\n",
        "ax = fig.add_subplot(1, 1, 1)\n",
        "ax.imshow(grid)\n",
        "plt.show()"
      ],
      "id": "f5e9908c",
      "execution_count": null,
      "outputs": []
    },
    {
      "cell_type": "markdown",
      "metadata": {
        "id": "48ae19c7"
      },
      "source": [
        "## Improving our training / validation loop\n",
        "\n",
        "We will add more advanced features to our training loop for better models\n",
        "\n",
        "Copy the train / valid loop and update it accordingly"
      ],
      "id": "48ae19c7"
    },
    {
      "cell_type": "markdown",
      "metadata": {
        "id": "83883689"
      },
      "source": [
        "### Computing accuracy during training / validation\n",
        "\n",
        "Update the `valid_one_epoch` to compute accuracy during during the validation loop, and plot its evolution during training\n",
        "\n",
        "Use the ROC curve computation where we compute the pred / true classes as inspiration\n",
        "\n",
        "Here's an example (that needs to be modified)\n",
        "```python\n",
        "\n",
        "correct_pred = 0\n",
        "total_pred = 0\n",
        "with torch.no_grad():\n",
        "    for data in valid_loader:\n",
        "        images, labels = data\n",
        "        outputs = net(images)\n",
        "        predictions = torch.round(outputs)[:,0]\n",
        "        # collect the correct predictions\n",
        "        for label, prediction in zip(labels, predictions):\n",
        "            if label == prediction:\n",
        "                correct_pred += 1\n",
        "            total_pred += 1\n",
        "            \n",
        "    # print accuracy\n",
        "    accuracy = 100 * (total_pred / total_pred)\n",
        "    print(\"Accuracy is: {:.1f} %\".format(accuracy))\n",
        "\n",
        "```                                             "
      ],
      "id": "83883689"
    },
    {
      "cell_type": "markdown",
      "metadata": {
        "id": "d6f6f8ea"
      },
      "source": [
        "### Best checkpoint\n",
        "\n",
        "You've seen how to save model checkpoint. However we saved the model at the end of training. What if there is an issue (like overfitting ? or our computer crashes !!!) ? \n",
        "\n",
        "How to keep a good copy of our model at any point ? \n",
        "\n",
        "The idea is that during the training, we always save the checkpoint with the lowest valid loss.\n",
        "\n",
        "**Modify the train loop to keep the best model state dict at any point**\n"
      ],
      "id": "d6f6f8ea"
    },
    {
      "cell_type": "code",
      "metadata": {
        "id": "c6239765"
      },
      "source": [
        "# Here"
      ],
      "id": "c6239765",
      "execution_count": null,
      "outputs": []
    },
    {
      "cell_type": "markdown",
      "metadata": {
        "id": "ff20aa39"
      },
      "source": [
        "### Early stopping\n",
        "\n",
        "You've seen that it is possible to overfit it you're not careful,\n",
        "\n",
        "**Go back to your previous class and adapt the training loop to add early stopping**"
      ],
      "id": "ff20aa39"
    },
    {
      "cell_type": "code",
      "metadata": {
        "id": "9a5675a0"
      },
      "source": [
        "# Here"
      ],
      "id": "9a5675a0",
      "execution_count": null,
      "outputs": []
    },
    {
      "cell_type": "markdown",
      "metadata": {
        "id": "886f1f27"
      },
      "source": [
        "### Data Augmentation\n",
        "\n",
        "\n",
        "One technique for training CNNs on images is to put your training data through data augmentation to generate similar-but-different examples to make your network more robust.\n",
        "\n",
        "You can generate \"augmented images\" on the fly or use composition to generate data\n",
        "\n",
        "- We are going to wrap our numpy arrays with `torch.utils.data.Dataset` class\n",
        "\n",
        "https://pytorch.org/tutorials/beginner/data_loading_tutorial.html#dataset-class\n",
        "\n",
        "- Here is how we use torch Compose to augment data\n",
        "\n",
        "https://pytorch.org/docs/stable/torchvision/transforms.html\n",
        "\n",
        "https://pytorch.org/tutorials/beginner/data_loading_tutorial.html#compose-transforms\n",
        "\n",
        "Note: This step requires a bit of tinkering from numpy arrays to torch datasets, it's fine if you skip it. For the next notebook it may prove a useful way of gaining performance\n",
        "\n",
        "**Remember : We apply data augmentation only during training**\n"
      ],
      "id": "886f1f27"
    },
    {
      "cell_type": "code",
      "metadata": {
        "id": "1006da24"
      },
      "source": [
        "import torch.functional as F\n",
        "import torch.utils\n",
        "import torchvision.transforms"
      ],
      "id": "1006da24",
      "execution_count": null,
      "outputs": []
    },
    {
      "cell_type": "code",
      "metadata": {
        "id": "2d18fdbc"
      },
      "source": [
        "# Example (very simple) data augmentation to get your started, you can add more transforms to this list\n",
        "\n",
        "train_transform = torchvision.transforms.Compose(\n",
        "    [\n",
        "        torchvision.transforms.ToPILImage(),\n",
        "        torchvision.transforms.RandomHorizontalFlip(p=0.5),\n",
        "        torchvision.transforms.RandomVerticalFlip(p=0.5),\n",
        "        torchvision.transforms.ToTensor(),\n",
        "        torchvision.transforms.Normalize(mean, std),\n",
        "    ]\n",
        ")"
      ],
      "id": "2d18fdbc",
      "execution_count": null,
      "outputs": []
    },
    {
      "cell_type": "code",
      "metadata": {
        "id": "6f086eb7"
      },
      "source": [
        "trainset_augmented = NpArrayDataset(\n",
        "    images=train_images, labels=train_labels, image_transforms=train_transform, label_transforms=None\n",
        ")"
      ],
      "id": "6f086eb7",
      "execution_count": null,
      "outputs": []
    },
    {
      "cell_type": "code",
      "metadata": {
        "id": "632aa7fd"
      },
      "source": [
        "# Get image from dataset. Note: it has been converted as a torch tensor in CHW format in float32 normalized !\n",
        "img, label = trainset_augmented[0]\n",
        "img = img.numpy().transpose((1, 2, 0)) * std + mean\n",
        "img = img.clip(0.0, 1.0)\n",
        "img = (img * 255.0).astype(np.uint8)\n",
        "plt.imshow(img)\n",
        "plt.show()\n",
        "\n",
        "# Compare effects of data augmentation\n",
        "img_orig = trainset_augmented.images[0]\n",
        "plt.imshow(img_orig)\n",
        "plt.show()"
      ],
      "id": "632aa7fd",
      "execution_count": null,
      "outputs": []
    },
    {
      "cell_type": "code",
      "metadata": {
        "id": "8e30bb76"
      },
      "source": [
        "# do another training and plot our metrics again. Did we change something ?"
      ],
      "id": "8e30bb76",
      "execution_count": null,
      "outputs": []
    },
    {
      "cell_type": "markdown",
      "metadata": {
        "id": "11eb773c"
      },
      "source": [
        "## [Optional] Hyperparameter Tuning\n",
        "\n",
        "If you're done with this, you can explore a little bit more : Now that we have a nice training loop we can do hyperparameter tuning !\n",
        "\n",
        "As you can see, there are a lot of parameters we can choose:\n",
        "\n",
        "- the optimizer\n",
        "- the learning rate\n",
        "- the model architecture\n",
        " \n",
        "etc... !"
      ],
      "id": "11eb773c"
    },
    {
      "cell_type": "markdown",
      "metadata": {
        "id": "60d4f979"
      },
      "source": [
        "### Optimizer Changes\n",
        "Change the optimizer from SGD to optim.Adam. Is it better ? "
      ],
      "id": "60d4f979"
    },
    {
      "cell_type": "code",
      "metadata": {
        "id": "dbdba227"
      },
      "source": [
        "# HERE"
      ],
      "id": "dbdba227",
      "execution_count": null,
      "outputs": []
    },
    {
      "cell_type": "markdown",
      "metadata": {
        "id": "d9e3fca7"
      },
      "source": [
        "### Batch Normalization\n",
        "\n",
        "One of the most used \"layer\" beyond conv / pool / relu is \"batch normalization\",\n",
        "\n",
        "http://d2l.ai/chapter_convolutional-modern/batch-norm.html\n",
        "\n",
        "Try adding it to your network and see what happens !\n",
        "\n",
        "```python\n",
        "def model_fn():\n",
        "    model = nn.Sequential(\n",
        "        # A first convolution block\n",
        "        nn.Conv2d(in_channels=3, out_channels=16, kernel_size=3),\n",
        "        nn.BatchNorm2d(16),\n",
        "        nn.ReLU(),\n",
        "        nn.Conv2d(in_channels=16, out_channels=16, kernel_size=3),\n",
        "        nn.BatchNorm2d(16),\n",
        "        nn.ReLU(),\n",
        "        nn.MaxPool2d(2),\n",
        "        # Another stack of these\n",
        "        nn.Conv2d(in_channels=16, out_channels=32, kernel_size=3),\n",
        "        nn.BatchNorm2d(32),\n",
        "        nn.ReLU(),\n",
        "        nn.Conv2d(in_channels=32, out_channels=32, kernel_size=3),\n",
        "        nn.BatchNorm2d(32),\n",
        "        nn.ReLU(),\n",
        "        nn.Conv2d(in_channels=32, out_channels=32, kernel_size=3),\n",
        "        nn.BatchNorm2d(32),\n",
        "        nn.ReLU(),\n",
        "        nn.MaxPool2d(2),\n",
        "        # A final classifier\n",
        "        nn.Flatten(),\n",
        "        nn.Linear(in_features=12 * 12 * 32, out_features=64),\n",
        "        nn.BatchNorm1d(64),\n",
        "        nn.ReLU(),\n",
        "        nn.Dropout(p=0.1),\n",
        "        nn.Linear(in_features=64, out_features=1),\n",
        "        nn.Sigmoid(),\n",
        "    )\n",
        "\n",
        "    return model\n",
        "```"
      ],
      "id": "d9e3fca7"
    },
    {
      "cell_type": "markdown",
      "metadata": {
        "id": "5b7c2092"
      },
      "source": [
        "### Trying other models\n",
        "\n",
        "You have seen a class on different model structure,\n",
        "https://supaerodatascience.github.io/deep-learning/slides/2_architectures.html#/\n",
        "\n",
        "Now is the time to try and implement them. For example, try to write a VGG-11 with fewer filters by yourself... or a very small resnet using [this](https://github.com/a-martyn/resnet/blob/master/resnet.py) as inspiration\n",
        "\n",
        "You can also use models from [torchvision](https://pytorch.org/docs/stable/torchvision/models.html#classification) in your loop, or as inspiration\n"
      ],
      "id": "5b7c2092"
    },
    {
      "cell_type": "markdown",
      "metadata": {
        "id": "1149b802"
      },
      "source": [
        "**Modify the model structure and launch another training... Is it better ?**"
      ],
      "id": "1149b802"
    },
    {
      "cell_type": "code",
      "metadata": {
        "id": "28c34e31"
      },
      "source": [
        "# HERE"
      ],
      "id": "28c34e31",
      "execution_count": null,
      "outputs": []
    },
    {
      "cell_type": "markdown",
      "metadata": {
        "id": "2ba0bd3d"
      },
      "source": [
        "### Transfer Learning\n",
        "\n",
        "For usual tasks such as classification or detection, we use \"transfer learning\":\n",
        "\n",
        "    In practice, very few people train an entire Convolutional Network from scratch (with random initialization), because it is relatively rare to have a dataset of sufficient size. Instead, it is common to pretrain a ConvNet on a very large dataset (e.g. ImageNet, which contains 1.2 million images with 1000 categories), and then use the ConvNet either as an initialization or a fixed feature extractor for the task of interest.\n",
        "    \n",
        "Adapt this tutorial to do transfer learning from a network available in torchvision to our use case\n",
        "\n",
        "https://pytorch.org/tutorials/beginner/transfer_learning_tutorial.html\n",
        "\n",
        "I advise you to select resnet18\n",
        "\n",
        "The biggest library of pretrained models is available here :\n",
        "\n",
        "https://github.com/rwightman/pytorch-image-models"
      ],
      "id": "2ba0bd3d"
    },
    {
      "cell_type": "code",
      "metadata": {
        "id": "f7327f74"
      },
      "source": [
        ""
      ],
      "id": "f7327f74",
      "execution_count": null,
      "outputs": []
    },
    {
      "cell_type": "markdown",
      "metadata": {
        "id": "6cea3db5"
      },
      "source": [
        "## Next steps before the next notebooks\n",
        "\n",
        "- Try to play with network hyperparameters. The dataset is small and allow fast iterations so use it to have an idea on hyperparameter sensitivity.\n",
        "    number of convolutions, other network structures, learning rates, optimizers,...\n",
        "\n",
        "- Example: Compare again SGD and ADAM\n",
        "\n",
        "- Try to use the ROC curve to select a threshold to filter only negative examples without losing any positive examples\n",
        "\n",
        "When you are done with the warmup, go to the next notebook. But remember that next datasets will be larger and you will not have the time (trainings will take longer ) to experiment on hyperparameters.\n",
        "\n",
        "**Try more things before going to the next notebook**"
      ],
      "id": "6cea3db5"
    },
    {
      "cell_type": "code",
      "metadata": {
        "id": "a3313c4a"
      },
      "source": [
        ""
      ],
      "id": "a3313c4a",
      "execution_count": null,
      "outputs": []
    },
    {
      "cell_type": "markdown",
      "metadata": {
        "id": "5d035e6f"
      },
      "source": [
        "## Food for thoughts: Tooling\n",
        "\n",
        "To conclude this notebook, reflect on the following,\n",
        "\n",
        "You have launched different experiences and obtained different results,\n",
        "\n",
        "Did you feel the notebook you used was sufficient ? Which tools would you like to have in order to properly run your experiments ? (Quick google search or ask someone) Do they already exist ?"
      ],
      "id": "5d035e6f"
    },
    {
      "cell_type": "markdown",
      "metadata": {
        "id": "893f1970"
      },
      "source": [
        "## High level frameworks\n",
        "\n",
        "<img src=\"https://raw.githubusercontent.com/pytorch/ignite/master/assets/logo/ignite_logo_mixed.svg\" alt=\"ignite\" style=\"width: 400px;\"/>\n",
        "\n",
        "Pytorch ignite is what we call a \"high-level library\" over pytorch, its objectives is to abstract away most of the boilerplate code for training deep neural network.\n",
        "\n",
        "Usually, they make the development process easier by enabling you to focus on what's important instead of writing distributed and optimized training loops and plugging metrics / callbacks. Because we all forgot to call `.backward()` or `.zero_grad()` at least once.\n",
        "\n",
        "Here an overview of the high-level libraries available for pytorch,\n",
        "\n",
        "https://neptune.ai/blog/model-training-libraries-pytorch-ecosystem?utm_source=twitter&utm_medium=tweet&utm_campaign=blog-model-training-libraries-pytorch-ecosystem\n",
        "\n",
        "Of these, we would like to highlight three of them:\n",
        "\n",
        "- pytorch-ignite, officially sanctioned by the pytorch team (its repo lives at https://pytorch.org/ignite/), which is developped by [someone from Toulouse](https://twitter.com/vfdev_5) - yes there is a member of the pytorch team living in Toulouse, we are not THAT behind in ML/DL :wishful-thinking:\n",
        "\n",
        "- pytorch-lightning (https://www.pytorchlightning.ai/) which has recently seen its 1.0 milestone and has been developped to a company. It is more \"research oriented\" that pytorch-ignite, and with a lower abstraction level, but seems to enable more use case.\n",
        "\n",
        "- catalyst (https://github.com/catalyst-team/catalyst) \n",
        "\n",
        "- skorch (https://github.com/skorch-dev/skorch). This class was previously written in skorch. Skorch mimics the scikit-learn API and allows bridging the two libraries together. It's a bit less powerful but you write much less code than the two libraries above, and if you are very familiar with scikit-learn, it could be very useful for fast prototyping\n",
        "\n",
        "\n",
        "**Take a look at the [previous class](https://nbviewer.jupyter.org/github/SupaeroDataScience/deep-learning/blob/main/deep/PyTorch%20Ignite.ipynb), the [official examples](https://nbviewer.jupyter.org/github/pytorch/ignite/tree/master/examples/notebooks/) or the [documentation](https://pytorch.org/ignite/) if want to learn about Ignite**"
      ],
      "id": "893f1970"
    },
    {
      "cell_type": "code",
      "metadata": {
        "id": "87fce1aa"
      },
      "source": [
        ""
      ],
      "id": "87fce1aa",
      "execution_count": null,
      "outputs": []
    }
  ]
}