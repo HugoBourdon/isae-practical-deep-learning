{
 "cells": [
  {
   "cell_type": "markdown",
   "metadata": {},
   "source": [
    "# Session 1 : Training your first aircraft classifier with pytorch\n",
    "\n",
    "<a rel=\"license\" href=\"http://creativecommons.org/licenses/by-nc-sa/4.0/\"><img alt=\"Creative Commons License\" align=\"left\" src=\"https://i.creativecommons.org/l/by-nc-sa/4.0/80x15.png\" /></a>&nbsp;| Florient Chouteau | <a href=\"https://supaerodatascience.github.io/deep-learning/\">https://supaerodatascience.github.io/deep-learning/</a>\n",
    "\n",
    "### Intro\n",
    "\n",
    "The objectives of this session is to apply what you learned during [the previous class on Deep Learning](https://supaerodatascience.github.io/deep-learning/) on a real dataset of satellite images.\n",
    "\n",
    "Most of the vocabulary and concepts of Deep Learning and Convolutionnal Neural Network has been defined on the class linked above so you should refer to it.\n",
    "\n",
    "The objective of the first session is to apply what was detailed above on another dataset using higher level tools such as [pytorch ignite].(https://github.com/pytorch/ignite)\n",
    "\n",
    "In this session you will:\n",
    "- Get more comfortable using [pytorch ignite](https://github.com/pytorch/ignite)\n",
    "- Train a basic NN on a basic dataset\n",
    "- Plot ROC curve & confusion matrix to diagnose your dataset\n",
    "\n",
    "During session 2 you will be experimenting with harder datasets\n",
    "\n",
    "If you haven't done so, go to the previous notebook to get a hands on pytorch ignite using a simple dataset called Fashion MNIST"
   ]
  },
  {
   "cell_type": "markdown",
   "metadata": {},
   "source": [
    "### What is pytorch-ignite ?\n",
    "\n",
    "<img src=\"https://raw.githubusercontent.com/pytorch/ignite/master/assets/logo/ignite_logo_mixed.svg\" alt=\"ignite\" style=\"width: 400px;\"/>\n",
    "\n",
    "Pytorch ignite is what we call a \"high-level library\" over pytorch, its objectives is to abstract away most of the boilerplate code for training deep neural network.\n",
    "\n",
    "Usually, they make the development process easier by enabling you to focus on what's important instead of writing distributed and optimized training loops and plugging metrics / callbacks. Because we all forgot to call `.backward()` or `.zero_grad()` at least once.\n",
    "\n",
    "Here an overview of the high-level libraries available for pytorch,\n",
    "\n",
    "https://neptune.ai/blog/model-training-libraries-pytorch-ecosystem?utm_source=twitter&utm_medium=tweet&utm_campaign=blog-model-training-libraries-pytorch-ecosystem\n",
    "\n",
    "Of these, we would like to highlight three of them:\n",
    "\n",
    "- pytorch-ignite, officially sanctioned by the pytorch team (its repo lives at https://pytorch.org/ignite/), which is developped by [someone from Toulouse](https://twitter.com/vfdev_5) - yes there is a member of the pytorch team living in Toulouse, we are not THAT behind in ML/DL :wishful-thinking:\n",
    "\n",
    "- pytorch-lightning (https://www.pytorchlightning.ai/) which has recently seen its 1.0 milestone and has bee developped to a company. It is more \"research oriented\" that pytorch-ignite, and with a lower abstraction level, but seems to enable more use case.\n",
    "\n",
    "- skorch (https://github.com/skorch-dev/skorch). This class was previously written in skorch. Skorch mimics the scikit-learn API and allows bridging the two libraries together. It's a bit less powerful but you write much less code than the two libraries above, and if you are very familiar with scikit-learn, it could be very useful for fast prototyping\n",
    "\n",
    "\n",
    "**Take a look at the [previous class](https://nbviewer.jupyter.org/github/SupaeroDataScience/deep-learning/blob/main/deep/PyTorch%20Ignite.ipynb), the [official examples](https://nbviewer.jupyter.org/github/pytorch/ignite/tree/master/examples/notebooks/) or the [documentation](https://pytorch.org/ignite/) if you need help using ignite**"
   ]
  },
  {
   "cell_type": "code",
   "execution_count": null,
   "metadata": {},
   "outputs": [],
   "source": [
    "%matplotlib inline"
   ]
  },
  {
   "cell_type": "code",
   "execution_count": null,
   "metadata": {},
   "outputs": [],
   "source": [
    "# Ensure ignite is installed, otherwise install it\n",
    "# !pip install pytorch-ignite"
   ]
  },
  {
   "cell_type": "code",
   "execution_count": null,
   "metadata": {},
   "outputs": [],
   "source": [
    "# Put your imports here\n",
    "import numpy as np"
   ]
  },
  {
   "cell_type": "markdown",
   "metadata": {},
   "source": [
    "## Dataset\n",
    "\n",
    "Récupération et exploration du datset"
   ]
  },
  {
   "cell_type": "code",
   "execution_count": null,
   "metadata": {},
   "outputs": [],
   "source": [
    "# Configuration variables\n",
    "TOY_DATASET_URL = \"https://storage.googleapis.com/fchouteau-isae-deep-learning/toy_aircraft_dataset.npz\""
   ]
  },
  {
   "cell_type": "markdown",
   "metadata": {},
   "source": [
    "andrej### Image (reminders)\n",
    "\n",
    "A digital image is an image composed of picture elements, also known as pixels, each with finite, discrete quantities of numeric representation for its intensity or gray level that is an output from its two-dimensional functions fed as input by its spatial coordinates denoted with x, y on the x-axis and y-axis, respectively.\n",
    "\n",
    "We represent images as matrixes,\n",
    "\n",
    "Images are made of pixels, and pixels are made of combinations of primary colors (in our case Red, Green and Blue). In this context, images have chanels that are the grayscale image of the same size as a color image, made of just one of these primary colors. For instance, an image from a standard digital camera will have a red, green and blue channel. A grayscale image has just one channel.\n",
    "\n",
    "In geographic information systems, channels are often referred to as raster bands.\n",
    "\n",
    "![img](https://static.packt-cdn.com/products/9781789613964/graphics/e91171a3-f7ea-411e-a3e1-6d3892b8e1e5.png)\n",
    "\n",
    "\n",
    "For the rest of this workshop we will use the following axis conventions for images\n",
    "\n",
    "![conventions](https://storage.googleapis.com/fchouteau-isae-deep-learning/static/image_coordinates.png)"
   ]
  },
  {
   "cell_type": "markdown",
   "metadata": {},
   "source": [
    "### Downloading the dataset\n",
    "\n",
    "We will be using [numpy datasources](https://docs.scipy.org/doc/numpy/reference/generated/numpy.DataSource.html?highlight=datasources) to download the dataset. DataSources can be local files or remote files/URLs. The files may also be compressed or uncompressed. DataSource hides some of the low-level details of downloading the file, allowing you to simply pass in a valid file path (or URL) and obtain a file object.\n",
    "\n",
    "The dataset is in npz format which is a packaging format where we store several numpy arrays in key-value format\n",
    "\n",
    "Note:\n",
    "If you get an error with the code below run:\n",
    "```python\n",
    "!gsutil -m cp -r gs://isae-deep-learning/toy_aircraft_dataset.npz /tmp/storage.googleapis.com/isae-deep-learning/toy_aircraft_dataset.npz\n",
    "```\n",
    "in a cell above the cell below"
   ]
  },
  {
   "cell_type": "code",
   "execution_count": null,
   "metadata": {},
   "outputs": [],
   "source": [
    "ds = np.DataSource(destpath=\"/tmp/\")\n",
    "f = ds.open(TOY_DATASET_URL, \"rb\")\n",
    "\n",
    "toy_dataset = np.load(f)\n",
    "trainval_images = toy_dataset[\"train_images\"]\n",
    "trainval_labels = toy_dataset[\"train_labels\"]\n",
    "test_images = toy_dataset[\"test_images\"]\n",
    "test_labels = toy_dataset[\"test_labels\"]"
   ]
  },
  {
   "cell_type": "markdown",
   "metadata": {},
   "source": [
    "### A bit of data exploration"
   ]
  },
  {
   "cell_type": "markdown",
   "metadata": {},
   "source": [
    "**Q1. Labels counting**\n",
    "\n",
    "a. What is the dataset size ?\n",
    "\n",
    "b. How many images representing aircrafts ?\n",
    "\n",
    "c. How many images representing backgrounds ?\n",
    "\n",
    "d. What are the dimensions (height and width) of the images ? What are the number of channels ?"
   ]
  },
  {
   "cell_type": "markdown",
   "metadata": {},
   "source": [
    "**Q2. Can you plot at least 8 examples of each label ? In a 4x4 grid ?**"
   ]
  },
  {
   "cell_type": "markdown",
   "metadata": {},
   "source": [
    "Here are some examples that help you answer this question. Try them and make your own. A well-understandood dataset is the key to an efficient model."
   ]
  },
  {
   "cell_type": "code",
   "execution_count": null,
   "metadata": {},
   "outputs": [],
   "source": [
    "import cv2\n",
    "import matplotlib.pyplot as plt"
   ]
  },
  {
   "cell_type": "code",
   "execution_count": null,
   "metadata": {},
   "outputs": [],
   "source": [
    "LABEL_NAMES = [\"Not an aircraft\", \"Aircraft\"]\n",
    "\n",
    "print(\"Labels counts :\")\n",
    "for l, c, label in zip(*np.unique(trainval_labels, return_counts=True), LABEL_NAMES):\n",
    "    print(f\" Label: {label} , value: {l}, count: {c}\")\n",
    "\n",
    "for l, label in enumerate(LABEL_NAMES):\n",
    "    print(f\"Examples shape for label {l} : {trainval_images[trainval_labels == l, ::].shape}\")"
   ]
  },
  {
   "cell_type": "code",
   "execution_count": null,
   "metadata": {},
   "outputs": [],
   "source": [
    "LABEL_NAMES = [\"Not an aircraft\", \"Aircraft\"]\n",
    "\n",
    "print(\"Labels counts :\")\n",
    "for l, c, label in zip(*np.unique(test_labels, return_counts=True), LABEL_NAMES):\n",
    "    print(f\" Label: {label} , value: {l}, count: {c}\")\n",
    "\n",
    "for l, label in enumerate(LABEL_NAMES):\n",
    "    print(f\"Examples shape for label {l} : {test_images[test_labels == l, ::].shape}\")"
   ]
  },
  {
   "cell_type": "code",
   "execution_count": null,
   "metadata": {},
   "outputs": [],
   "source": [
    "grid_size = 4\n",
    "grid = np.zeros((grid_size * 64, grid_size * 64, 3)).astype(np.uint8)\n",
    "for i in range(grid_size):\n",
    "    for j in range(grid_size):\n",
    "        tile = np.copy(trainval_images[i * grid_size + j])\n",
    "        label = np.copy(trainval_labels[i * grid_size + j])\n",
    "        color = (0, 255, 0) if label == 1 else (255, 0, 0)\n",
    "        tile = cv2.rectangle(tile, (0, 0), (64, 64), color, thickness=2)\n",
    "        grid[i * 64 : (i + 1) * 64, j * 64 : (j + 1) * 64, :] = tile\n",
    "\n",
    "fig = plt.figure(figsize=(10, 10))\n",
    "ax = fig.add_subplot(1, 1, 1)\n",
    "ax.imshow(grid)\n",
    "plt.show()"
   ]
  },
  {
   "cell_type": "markdown",
   "metadata": {},
   "source": [
    "### A bit about train-test\n",
    "\n",
    "You just downloaded a training and a test set.\n",
    "\n",
    "- We use the training set for forward/backward\n",
    "- We use the validation set to tune hyperparameters (optimizers, early stopping)\n",
    "- We use the test set for final metrics on our tuned model\n",
    "\n",
    "![](https://i.stack.imgur.com/osBuF.png)\n",
    "\n",
    "For more information as to why we use train/validation and test refer to these articles:\n",
    "https://towardsdatascience.com/train-validation-and-test-sets-72cb40cba9e7\n",
    "\n",
    "https://www.freecodecamp.org/news/what-to-do-when-your-training-and-testing-data-come-from-different-distributions-d89674c6ecd8/\n",
    "\n",
    "https://kevinzakka.github.io/2016/09/26/applying-deep-learning/\n",
    "\n",
    "We will now create our validation dataset,\n",
    "\n",
    "Since we know the dataset is balanced, we can evenly sample from the dataset without taking too many risks\n",
    "\n",
    "We will do a 80/20 sampling"
   ]
  },
  {
   "cell_type": "code",
   "execution_count": null,
   "metadata": {},
   "outputs": [],
   "source": [
    "idxs = np.random.permutation(np.arange(trainval_images.shape[0]))\n",
    "\n",
    "train_idxs, val_idxs = idxs[: int(0.8 * len(idxs))], idxs[int(0.8 * len(idxs)) :]\n",
    "\n",
    "train_images = trainval_images[train_idxs]\n",
    "train_labels = trainval_labels[train_idxs]\n",
    "val_images = trainval_images[val_idxs]\n",
    "val_labels = trainval_labels[val_idxs]"
   ]
  },
  {
   "cell_type": "code",
   "execution_count": null,
   "metadata": {},
   "outputs": [],
   "source": [
    "train_images.shape"
   ]
  },
  {
   "cell_type": "markdown",
   "metadata": {},
   "source": [
    "## Training using pytorch-ignite\n",
    "\n",
    "In order to simplify the code, we will use the [pytorch-ignite](https://github.com/pytorch/ignite) library. It provides a convenient wrapper and avoid the need of re writing the training loop eah time:\n",
    "\n",
    "```python\n",
    "for epoch in range(10):\n",
    "    for batch in batches:\n",
    "        # torch forward\n",
    "        # torch backward\n",
    "```\n",
    "\n",
    "If you still prefer writing your own loop, feel free to overwrite the next cells.\n",
    "\n",
    "If you need any help with functionalities of ignite, you [can find here](https://nbviewer.jupyter.org/github/pytorch/ignite/tree/master/examples/notebooks/) the reference notebooks of the library"
   ]
  },
  {
   "cell_type": "code",
   "execution_count": null,
   "metadata": {
    "lines_to_next_cell": 1
   },
   "outputs": [],
   "source": [
    "from typing import Callable\n",
    "\n",
    "import torch\n",
    "import torch.nn.functional as F\n",
    "from PIL import Image\n",
    "from torch import nn, optim\n",
    "from torch.utils.data import DataLoader, Dataset\n",
    "from torchvision import datasets, transforms"
   ]
  },
  {
   "cell_type": "markdown",
   "metadata": {},
   "source": [
    "### Defining Dataset & Transforms"
   ]
  },
  {
   "cell_type": "code",
   "execution_count": null,
   "metadata": {},
   "outputs": [],
   "source": [
    "## Define dataset\n",
    "\n",
    "## We write our own Dataset class\n",
    "class NpArrayDataset(Dataset):\n",
    "    def __init__(\n",
    "        self,\n",
    "        images: np.ndarray,\n",
    "        labels: np.ndarray,\n",
    "        image_transforms: Callable = None,\n",
    "        label_transforms: Callable = None,\n",
    "    ):\n",
    "        self.images = images\n",
    "        self.labels = labels\n",
    "        self.image_transforms = image_transforms\n",
    "        self.label_transforms = label_transforms\n",
    "\n",
    "    def __len__(self):\n",
    "        return self.images.shape[0]\n",
    "\n",
    "    def __getitem__(self, index: int):\n",
    "        x = self.images[index]\n",
    "        y = self.labels[index]\n",
    "\n",
    "        if self.image_transforms is not None:\n",
    "            x = self.image_transforms(x)\n",
    "        else:\n",
    "            x = torch.tensor(x)\n",
    "\n",
    "        if self.label_transforms is not None:\n",
    "            y = self.label_transforms(y)\n",
    "        else:\n",
    "            y = torch.tensor(y)\n",
    "\n",
    "        return x, y"
   ]
  },
  {
   "cell_type": "code",
   "execution_count": null,
   "metadata": {},
   "outputs": [],
   "source": [
    "# transform to convert np array in range [0,255] to torch.Tensor [0.,1.]\n",
    "image_transforms = transforms.Compose(\n",
    "    [\n",
    "        transforms.ToTensor(),\n",
    "    ]\n",
    ")\n",
    "\n",
    "target_transforms = None\n",
    "\n",
    "# load the training data\n",
    "train_set = NpArrayDataset(\n",
    "    images=train_images, labels=train_labels, image_transforms=image_transforms, label_transforms=target_transforms\n",
    ")\n",
    "train_loader = DataLoader(train_set, batch_size=64, shuffle=True)\n",
    "\n",
    "# load the validation data\n",
    "validation_set = NpArrayDataset(\n",
    "    images=val_images, labels=val_labels, image_transforms=image_transforms, label_transforms=target_transforms\n",
    ")\n",
    "val_loader = DataLoader(validation_set, batch_size=64, shuffle=True)"
   ]
  },
  {
   "cell_type": "markdown",
   "metadata": {},
   "source": [
    "### Check that your dataset outputs correct data\n",
    "\n",
    "Always to this as a sanity check to catch bugs in your data processing pipeline\n",
    "\n",
    "Write the inverse transformation by hand to ensure it's ok\n",
    "\n",
    "![andrej](https://storage.googleapis.com/fchouteau-isae-deep-learning/static/andrej_tweet_1.png)"
   ]
  },
  {
   "cell_type": "code",
   "execution_count": null,
   "metadata": {},
   "outputs": [],
   "source": [
    "x, y = train_set[3]\n",
    "x = x.numpy()\n",
    "x = (x * 255.0).astype(np.uint8).transpose((1, 2, 0))\n",
    "\n",
    "print(\"Inverse transform is OK ? {}\".format(np.all(train_set.images[3] == x)))\n",
    "print(\"Label {}\".format(y))\n",
    "Image.fromarray(x.astype(np.uint8))"
   ]
  },
  {
   "cell_type": "markdown",
   "metadata": {},
   "source": [
    "Model"
   ]
  },
  {
   "cell_type": "code",
   "execution_count": null,
   "metadata": {},
   "outputs": [],
   "source": [
    "DEVICE = torch.device(\"cuda:0\" if torch.cuda.is_available() else \"cpu\")"
   ]
  },
  {
   "cell_type": "code",
   "execution_count": null,
   "metadata": {},
   "outputs": [],
   "source": [
    "# Define the torch model to use\n",
    "# Here a sequential layer is used instead of the classical nn.Module\n",
    "# If you need to write your own module, plenty of resources are available one the web or in deep learning course\n",
    "\n",
    "\n",
    "def model_fn(num_classes: int = 2):\n",
    "    model = nn.Sequential(\n",
    "        nn.Conv2d(in_channels=3, out_channels=32, kernel_size=3),\n",
    "        nn.Batchnorm2d(32),\n",
    "        nn.ReLU(),\n",
    "        nn.MaxPool2d(2),\n",
    "        nn.Conv2d(in_channels=32, out_channels=64, kernel_size=3),\n",
    "        nn.Batchnorm2d(64),\n",
    "        nn.ReLU(),\n",
    "        nn.MaxPool2d(2),\n",
    "        nn.Conv2d(in_channels=64, out_channels=64, kernel_size=3),\n",
    "        nn.Batchnorm2d(64),\n",
    "        nn.ReLU(),\n",
    "        nn.MaxPool2d(2),\n",
    "        nn.Flatten(),\n",
    "        nn.Linear(in_features=6 * 6 * 64, out_features=256),\n",
    "        nn.Batchnorm1d(256),\n",
    "        nn.ReLU(),\n",
    "        nn.Dropout(p=0.25),\n",
    "        nn.Linear(in_features=256, out_features=64),\n",
    "        nn.Batchnorm1d(64),\n",
    "        nn.ReLU(),\n",
    "        nn.Dropout(p=0.25),\n",
    "        nn.Linear(in_features=64, out_features=num_classes),\n",
    "        nn.LogSoftmax(dim=-1),\n",
    "    )\n",
    "\n",
    "    return model\n",
    "\n",
    "\n",
    "model = model_fn(num_classes=2)\n",
    "\n",
    "# moving model to gpu if available\n",
    "model.to(DEVICE)"
   ]
  },
  {
   "cell_type": "markdown",
   "metadata": {},
   "source": [
    "### Defining High level Training functions"
   ]
  },
  {
   "cell_type": "code",
   "execution_count": null,
   "metadata": {},
   "outputs": [],
   "source": [
    "import ignite.engine\n",
    "import ignite.handlers\n",
    "import ignite.metrics\n",
    "import ignite.utils\n",
    "from ignite.engine import Events"
   ]
  },
  {
   "cell_type": "code",
   "execution_count": null,
   "metadata": {},
   "outputs": [],
   "source": [
    "# declare optimizers and loss\n",
    "optimizer = optim.SGD(model.parameters(), lr=0.001)\n",
    "criterion = nn.NLLLoss()"
   ]
  },
  {
   "cell_type": "markdown",
   "metadata": {},
   "source": [
    "Below we create 3 engines, a trainer, an evaluator for the training set and an evaluator for the validation set, by using the `create_supervised_trainer` and `create_supervised_evaluator` and passing the required arguments.\n",
    "\n",
    "We import the metrics from `ignite.metrics` which we want to calculate for the model. Like `Accuracy`, `ConfusionMatrix`, and `Loss` and we pass them to `evaluator` engines which will calculate these metrics for each iteration.\n",
    "\n",
    "* `training_history`: it stores the training loss and accuracy\n",
    "* `validation_history`:it stores the validation loss and accuracy\n",
    "* `last_epoch`: it stores the last epoch untill the model is trained\n",
    "\n",
    "We will also attach a metric of `RunningAverage` to track a running average of the scalar loss output for each batch."
   ]
  },
  {
   "cell_type": "code",
   "execution_count": null,
   "metadata": {},
   "outputs": [],
   "source": [
    "# defining the number of epochs\n",
    "epochs = 12\n",
    "\n",
    "# creating trainer\n",
    "trainer = ignite.engine.create_supervised_trainer(model=model, optimizer=optimizer, loss_fn=criterion, device=DEVICE)\n",
    "\n",
    "# create metrics\n",
    "metrics = {\n",
    "    \"accuracy\": ignite.metrics.Accuracy(),\n",
    "    \"nll\": ignite.metrics.Loss(criterion),\n",
    "    \"cm\": ignite.metrics.ConfusionMatrix(num_classes=2),\n",
    "}\n",
    "\n",
    "ignite.metrics.RunningAverage(output_transform=lambda x: x).attach(trainer, \"loss\")\n",
    "\n",
    "# Evaluators\n",
    "train_evaluator = ignite.engine.create_supervised_evaluator(model, metrics=metrics, device=DEVICE)\n",
    "val_evaluator = ignite.engine.create_supervised_evaluator(model, metrics=metrics, device=DEVICE)\n",
    "\n",
    "# Logging\n",
    "train_evaluator.logger = ignite.utils.setup_logger(\"train\")\n",
    "val_evaluator.logger = ignite.utils.setup_logger(\"val\")\n",
    "\n",
    "# init variables for logging\n",
    "training_history = {\"accuracy\": [], \"loss\": []}\n",
    "validation_history = {\"accuracy\": [], \"loss\": []}\n",
    "last_epoch = []"
   ]
  },
  {
   "cell_type": "markdown",
   "metadata": {},
   "source": [
    "Lastly, we want to checkpoint this model. It's important to do so, as training processes can be time consuming and if for some reason something goes wrong during training, a model checkpoint can be helpful to restart training from the point of failure.\n",
    "\n",
    "Below we will use Ignite's `ModelCheckpoint` handler to checkpoint models at the end of each epoch."
   ]
  },
  {
   "cell_type": "code",
   "execution_count": null,
   "metadata": {},
   "outputs": [],
   "source": [
    "model_name = \"basic_cnn\"\n",
    "dataset_name = \"toy_aircrafts\"\n",
    "\n",
    "checkpointer = ignite.handlers.ModelCheckpoint(\n",
    "    \"./saved_models\",\n",
    "    filename_prefix=dataset_name,\n",
    "    n_saved=2,\n",
    "    create_dir=True,\n",
    "    save_as_state_dict=True,\n",
    "    require_empty=False,\n",
    ")\n",
    "\n",
    "trainer.add_event_handler(Events.EPOCH_COMPLETED, checkpointer, {model_name: model})"
   ]
  },
  {
   "cell_type": "markdown",
   "metadata": {},
   "source": [
    "Below you will see ways to define your own custom functions and attaching them to various `Events` of the training process.\n",
    "\n",
    "The functions below both achieve similar tasks, they print the results of the evaluator run on a dataset. One function does that on the training evaluator and dataset, while the other on the validation. Another difference is how these functions are attached in the trainer engine.\n",
    "\n",
    "The first method involves using a decorator, the syntax is simple - `@` `trainer.on(Events.EPOCH_COMPLETED)`, means that the decorated function will be attached to the trainer and called at the end of each epoch.\n",
    "\n",
    "The second method involves using the add_event_handler method of trainer - `trainer.add_event_handler(Events.EPOCH_COMPLETED, custom_function)`. This achieves the same result as the above."
   ]
  },
  {
   "cell_type": "code",
   "execution_count": null,
   "metadata": {},
   "outputs": [],
   "source": [
    "@trainer.on(Events.EPOCH_COMPLETED)\n",
    "def log_training_results(trainer):\n",
    "    train_evaluator.run(train_loader)\n",
    "    metrics = train_evaluator.state.metrics\n",
    "    accuracy = metrics[\"accuracy\"] * 100\n",
    "    loss = metrics[\"nll\"]\n",
    "    last_epoch.append(0)\n",
    "    training_history[\"accuracy\"].append(accuracy)\n",
    "    training_history[\"loss\"].append(loss)\n",
    "    print(\n",
    "        \"Training Results - Epoch: {}  Avg accuracy: {:.2f} Avg loss: {:.2f}\".format(\n",
    "            trainer.state.epoch, accuracy, loss\n",
    "        )\n",
    "    )\n",
    "\n",
    "\n",
    "@trainer.on(Events.EPOCH_COMPLETED)\n",
    "def log_validation_results(trainer):\n",
    "    val_evaluator.run(val_loader)\n",
    "    metrics = val_evaluator.state.metrics\n",
    "    accuracy = metrics[\"accuracy\"] * 100\n",
    "    loss = metrics[\"nll\"]\n",
    "    validation_history[\"accuracy\"].append(accuracy)\n",
    "    validation_history[\"loss\"].append(loss)\n",
    "    print(\n",
    "        \"Validation Results - Epoch: {}  Avg accuracy: {:.2f} Avg loss: {:.2f}\".format(\n",
    "            trainer.state.epoch, accuracy, loss\n",
    "        )\n",
    "    )"
   ]
  },
  {
   "cell_type": "markdown",
   "metadata": {},
   "source": [
    "### Training\n",
    "\n",
    "We will actually train the model (run the training engine), and plot training & validation metrics during training"
   ]
  },
  {
   "cell_type": "code",
   "execution_count": null,
   "metadata": {},
   "outputs": [],
   "source": [
    "trainer.run(train_loader, max_epochs=epochs)"
   ]
  },
  {
   "cell_type": "code",
   "execution_count": null,
   "metadata": {},
   "outputs": [],
   "source": [
    "plt.plot(training_history[\"accuracy\"], label=\"Training Accuracy\")\n",
    "plt.plot(validation_history[\"accuracy\"], label=\"Validation Accuracy\")\n",
    "plt.xlabel(\"No. of Epochs\")\n",
    "plt.ylabel(\"Accuracy\")\n",
    "plt.legend(frameon=False)\n",
    "plt.show()"
   ]
  },
  {
   "cell_type": "code",
   "execution_count": null,
   "metadata": {},
   "outputs": [],
   "source": [
    "plt.plot(training_history[\"loss\"], label=\"Training Loss\")\n",
    "plt.plot(validation_history[\"loss\"], label=\"Validation Loss\")\n",
    "plt.xlabel(\"No. of Epochs\")\n",
    "plt.ylabel(\"Loss\")\n",
    "plt.legend(frameon=False)\n",
    "plt.show()"
   ]
  },
  {
   "cell_type": "markdown",
   "metadata": {},
   "source": [
    "Now, clear the model from memory"
   ]
  },
  {
   "cell_type": "code",
   "execution_count": null,
   "metadata": {},
   "outputs": [],
   "source": [
    "del model"
   ]
  },
  {
   "cell_type": "markdown",
   "metadata": {},
   "source": [
    "## Testing and metrics\n",
    "\n",
    "Now that we have a trained network, it is important to measure how well it performs. We do not do that during training because theoretically we try to test on a context closer to how the final model will be used, meaning this can be another pipeline and is usually outside the training engine.\n",
    "\n",
    "You can refer to your ML course or on resources on the web to see how we can measure it."
   ]
  },
  {
   "cell_type": "markdown",
   "metadata": {},
   "source": [
    "### Loading saved model"
   ]
  },
  {
   "cell_type": "code",
   "execution_count": null,
   "metadata": {},
   "outputs": [],
   "source": [
    "# loading the saved model\n",
    "def fetch_last_checkpoint_model_filename(model_save_path: str, model_prefix: str):\n",
    "    import os\n",
    "    from pathlib import Path\n",
    "\n",
    "    checkpoint_files = Path(model_save_path)\n",
    "    checkpoint_files = checkpoint_files.glob(\"{}*.pt\".format(model_prefix))\n",
    "    checkpoint_files = [str(ckpt.resolve().name) for ckpt in checkpoint_files]\n",
    "    checkpoint_iter = [int(x.split(\"_\")[-1].split(\".\")[0]) for x in checkpoint_files]\n",
    "    last_idx = np.array(checkpoint_iter).argmax()\n",
    "\n",
    "    checkpoint_file = os.path.join(model_save_path, checkpoint_files[last_idx])\n",
    "    print(checkpoint_file)\n",
    "    return checkpoint_file\n",
    "\n",
    "\n",
    "checkpoint_path = fetch_last_checkpoint_model_filename(\"./saved_models\", \"{}_{}\".format(dataset_name, model_name))\n",
    "\n",
    "print(checkpoint_path)\n",
    "# Instantiate a new empty model\n",
    "model = model_fn()\n",
    "\n",
    "# Load state\n",
    "model.load_state_dict(torch.load(checkpoint_path))\n",
    "\n",
    "print(\"Model Loaded\")"
   ]
  },
  {
   "cell_type": "markdown",
   "metadata": {},
   "source": [
    "### Inferencing on the test dataset\n",
    "\n",
    "Now we will run predictions on the test dataset using the newly loaded model"
   ]
  },
  {
   "cell_type": "code",
   "execution_count": null,
   "metadata": {},
   "outputs": [],
   "source": [
    "test_ds = NpArrayDataset(\n",
    "    images=test_images, labels=test_labels, image_transforms=image_transforms, label_transforms=target_transforms\n",
    ")"
   ]
  },
  {
   "cell_type": "code",
   "execution_count": null,
   "metadata": {},
   "outputs": [],
   "source": [
    "import tqdm"
   ]
  },
  {
   "cell_type": "code",
   "execution_count": null,
   "metadata": {},
   "outputs": [],
   "source": [
    "y_true = []\n",
    "y_pred = []\n",
    "\n",
    "# Send model to correct device\n",
    "model.to(DEVICE)\n",
    "\n",
    "# Put model in evaluatio mode (very important)\n",
    "model.eval()\n",
    "\n",
    "# Disable all gradients things\n",
    "with torch.no_grad():\n",
    "    for x, y_t in tqdm.tqdm(test_ds, \"predicting\"):\n",
    "        x = x.reshape((-1,) + x.shape)\n",
    "        x = x.to(DEVICE)\n",
    "        y = torch.exp(model.forward(x))\n",
    "        y = y.to(\"cpu\").numpy()\n",
    "\n",
    "        y_t = int(y_t.to(\"cpu\").numpy())\n",
    "\n",
    "        y_pred.append(y)\n",
    "        y_true.append(y_t)\n",
    "y_pred = np.concatenate(y_pred, axis=0)\n",
    "y_true = np.asarray(y_true)"
   ]
  },
  {
   "cell_type": "code",
   "execution_count": null,
   "metadata": {},
   "outputs": [],
   "source": [
    "print(y_pred.shape)\n",
    "\n",
    "print(y_pred[0])"
   ]
  },
  {
   "cell_type": "code",
   "execution_count": null,
   "metadata": {},
   "outputs": [],
   "source": [
    "y_pred_classes = np.argmax(y_pred, axis=1)"
   ]
  },
  {
   "cell_type": "markdown",
   "metadata": {},
   "source": [
    "### Confusion matrix\n",
    "Here, we are first computing the [confusion matrix]():"
   ]
  },
  {
   "cell_type": "code",
   "execution_count": null,
   "metadata": {},
   "outputs": [],
   "source": [
    "from sklearn.metrics import confusion_matrix\n",
    "\n",
    "print(\"Confusion matrix\")\n",
    "confusion_matrix(y_true, y_pred_classes)"
   ]
  },
  {
   "cell_type": "markdown",
   "metadata": {},
   "source": [
    "### ROC curve\n",
    "\n",
    "The next metric we are computing is the [ROC curve](https://scikit-learn.org/stable/auto_examples/model_selection/plot_roc.html).\n",
    "\n",
    "It used to choose a threshold on the output probability in case you are intesrested in controling the false positive rate."
   ]
  },
  {
   "cell_type": "code",
   "execution_count": null,
   "metadata": {},
   "outputs": [],
   "source": [
    "from sklearn.metrics import auc, roc_curve\n",
    "\n",
    "# Compute ROC curve and ROC area for each class\n",
    "\n",
    "fpr, tpr, _ = roc_curve(\n",
    "    y_true,\n",
    "    y_pred[:, 1],\n",
    ")\n",
    "roc_auc = auc(fpr, tpr)"
   ]
  },
  {
   "cell_type": "code",
   "execution_count": null,
   "metadata": {},
   "outputs": [],
   "source": [
    "plt.figure()\n",
    "lw = 2\n",
    "plt.plot(fpr, tpr, color=\"darkorange\", lw=lw, label=\"ROC curve (area = %0.2f)\" % roc_auc)\n",
    "plt.plot([0, 1], [0, 1], color=\"navy\", lw=lw, linestyle=\"--\")\n",
    "plt.xlim([0.0, 1.0])\n",
    "plt.ylim([0.0, 1.05])\n",
    "plt.xlabel(\"False Positive Rate\")\n",
    "plt.ylabel(\"True Positive Rate\")\n",
    "plt.title(\"Receiver operating characteristic example\")\n",
    "plt.legend(loc=\"lower right\")\n",
    "plt.show()"
   ]
  },
  {
   "cell_type": "markdown",
   "metadata": {},
   "source": [
    "### Misclassified examples\n",
    "\n",
    "It is always interesting to check mis classified examples.\n",
    "\n",
    "It usually provides tips on how to improve your model."
   ]
  },
  {
   "cell_type": "code",
   "execution_count": null,
   "metadata": {},
   "outputs": [],
   "source": [
    "misclassified_idxs = np.where(y_pred_classes != y_true)\n",
    "\n",
    "misclassified_images = train_images[misclassified_idxs]\n",
    "misclassified_labels = train_labels[misclassified_idxs]\n",
    "\n",
    "grid_size = 4\n",
    "grid = np.zeros((grid_size * 64, grid_size * 64, 3)).astype(np.uint8)\n",
    "for i in range(grid_size):\n",
    "    for j in range(grid_size):\n",
    "        img = np.copy(misclassified_images[i * grid_size + j])\n",
    "        lbl = np.copy(misclassified_labels[i * grid_size + j])\n",
    "        color = (0, 255, 0) if lbl == 1 else (255, 0, 0)\n",
    "        tile = cv2.rectangle(img, (0, 0), (64, 64), color, thickness=2)\n",
    "        grid[i * 64 : (i + 1) * 64, j * 64 : (j + 1) * 64, :] = img\n",
    "\n",
    "fig = plt.figure(figsize=(10, 10))\n",
    "ax = fig.add_subplot(1, 1, 1)\n",
    "ax.imshow(grid)\n",
    "plt.show()"
   ]
  },
  {
   "cell_type": "markdown",
   "metadata": {},
   "source": [
    "## Using more advanced features with pytorch-ignite\n",
    "\n",
    "We will add more advanced features using handlers and data augmentation,\n",
    "\n",
    "Here, either write a new loop or edit the train loop above"
   ]
  },
  {
   "cell_type": "markdown",
   "metadata": {},
   "source": [
    "### Adding more handlers: Early stopping\n",
    "\n",
    "Now we will setup a `EarlyStopping` handler for this training process. EarlyStopping requires a score_function that allows the user to define whatever criteria to stop trainig. In this case, if the loss of the validation set does not decrease in 10 epochs, the training process will stop early. Since the `EarlyStopping` handler relies on the validation loss, it's attached to the `val_evaluator`.\n",
    "\n",
    "\n",
    "Now we will setup a `EarlyStopping` handler for this training process. EarlyStopping requires a score_function that allows the user to define whatever criteria to stop trainig. In this case, if the loss of the validation set does not decrease in 10 epochs, the training process will stop early. Since the `EarlyStopping` handler relies on the validation loss, it's attached to the `val_evaluator`.\n",
    "\n",
    "```python\n",
    "def score_function(engine):\n",
    "    val_loss = engine.state.metrics[\"nll\"]\n",
    "    return -val_loss\n",
    "\n",
    "handler = EarlyStopping(patience=10, score_function=score_function, trainer=trainer)\n",
    "\n",
    "val_evaluator.add_event_handler(Events.COMPLETED, handler)\n",
    "```\n",
    "\n",
    "Add this to your training engine (you can then start the training again and train for longer)"
   ]
  },
  {
   "cell_type": "code",
   "execution_count": null,
   "metadata": {},
   "outputs": [],
   "source": []
  },
  {
   "cell_type": "markdown",
   "metadata": {},
   "source": [
    "### Adding more handlers: Configuring model checkpoint to retain only best models\n",
    "\n",
    "The current model checkpoint configuration saves checkpoint every n epoch. This may not be the best solution, why not save, for example, the last 2 best models in term of validation loss ?\n",
    "\n",
    "**Adapt the following code to your use case**\n",
    "\n",
    "```python\n",
    "\n",
    "# Store the best model\n",
    "def default_score_fn(engine):\n",
    "    score = engine.state.metrics['Accuracy']\n",
    "    return score\n",
    "\n",
    "\n",
    "best_model_handler = ModelCheckpoint(dirname=log_path,\n",
    "                                     filename_prefix=\"best\",\n",
    "                                     n_saved=3,\n",
    "                                     global_step_transform=global_step_from_engine(trainer),\n",
    "                                     score_name=\"test_acc\",\n",
    "                                     score_function=default_score_fn)\n",
    "evaluator.add_event_handler(Events.COMPLETED, best_model_handler, {'model': model, })\n",
    "\n",
    "```"
   ]
  },
  {
   "cell_type": "code",
   "execution_count": null,
   "metadata": {},
   "outputs": [],
   "source": []
  },
  {
   "cell_type": "markdown",
   "metadata": {},
   "source": [
    "### Data Augmentation\n",
    "\n",
    "\n",
    "One technique for training CNNs on images is to put your training data through data augmentation to generate similar-but-different examples to make your network more robust.\n",
    "\n",
    "You can generate \"augmented images\" on the fly or use composition to generate data\n",
    "\n",
    "- We are going to wrap our numpy arrays with `torch.utils.data.Dataset` class\n",
    "\n",
    "https://pytorch.org/tutorials/beginner/data_loading_tutorial.html#dataset-class\n",
    "\n",
    "- Here is how we use torch Compose to augment data\n",
    "\n",
    "https://pytorch.org/docs/stable/torchvision/transforms.html\n",
    "\n",
    "https://pytorch.org/tutorials/beginner/data_loading_tutorial.html#compose-transforms\n",
    "\n",
    "Note: This step requires a bit of tinkering from numpy arrays to torch datasets, it's fine if you skip it. For the next notebook it may prove a useful way of gaining performance\n",
    "\n",
    "**Remember : We apply data augmentation only during training**\n"
   ]
  },
  {
   "cell_type": "code",
   "execution_count": null,
   "metadata": {},
   "outputs": [],
   "source": [
    "import torch.functional as F\n",
    "import torch.utils\n",
    "import torchvision.transforms"
   ]
  },
  {
   "cell_type": "code",
   "execution_count": null,
   "metadata": {},
   "outputs": [],
   "source": [
    "# Example (very simple) data augmentation to get your started, you can add more transforms to this list\n",
    "\n",
    "train_transform = torchvision.transforms.Compose(\n",
    "    [\n",
    "        torchvision.transforms.ToPILImage(),\n",
    "        torchvision.transforms.RandomHorizontalFlip(p=0.5),\n",
    "        torchvision.transforms.RandomVerticalFlip(p=0.5),\n",
    "        torchvision.transforms.ToTensor(),\n",
    "    ]\n",
    ")"
   ]
  },
  {
   "cell_type": "code",
   "execution_count": null,
   "metadata": {},
   "outputs": [],
   "source": [
    "trainset_augmented = NpArrayDataset(\n",
    "    images=train_images, labels=train_labels, image_transforms=train_transform, label_transforms=None\n",
    ")"
   ]
  },
  {
   "cell_type": "code",
   "execution_count": null,
   "metadata": {},
   "outputs": [],
   "source": [
    "# Get image from dataset. Note: it has been converted as a torch tensor in CHW format in float32 normalized !\n",
    "img, label = trainset_augmented[0]\n",
    "img = (img.numpy() * 255.0).astype(np.uint8)\n",
    "img = np.rollaxis(img, 0, 3)\n",
    "plt.imshow(img)\n",
    "plt.show()\n",
    "\n",
    "# Compare effects of data augmentation\n",
    "img_orig = trainset_augmented.images[0]\n",
    "plt.imshow(img_orig)\n",
    "plt.show()"
   ]
  },
  {
   "cell_type": "code",
   "execution_count": null,
   "metadata": {},
   "outputs": [],
   "source": [
    "# plot our metrics again. Did we change something ?"
   ]
  },
  {
   "cell_type": "markdown",
   "metadata": {},
   "source": [
    "### [Optional] Trying other models\n",
    "\n",
    "You have seen a class on different model structure,\n",
    "https://supaerodatascience.github.io/deep-learning/slides/2_architectures.html#/\n",
    "\n",
    "Now is the time to try and implement them. For example, try to write a VGG-11 with fewer filters by yourself... or a very small resnet using [this](https://github.com/a-martyn/resnet/blob/master/resnet.py) as inspiration\n",
    "\n",
    "You can also use models from [torchvision](https://pytorch.org/docs/stable/torchvision/models.html#classification) in your loop, or as inspiration\n",
    "\n",
    "**Modify the model structure and launch another training... Is it better ?**"
   ]
  },
  {
   "cell_type": "code",
   "execution_count": null,
   "metadata": {},
   "outputs": [],
   "source": []
  },
  {
   "cell_type": "markdown",
   "metadata": {},
   "source": [
    "### [Optional] Next steps before the next notebooks\n",
    "\n",
    "- Try to play with network hyperparameters. The dataset is small and allow fast iterations so use it to have an idea on hyperparameter sensitivity.\n",
    "    number of convolutions, other network structures, learning rates, optimizers,...\n",
    "\n",
    "- Example: Compare again SGD and ADAM\n",
    "\n",
    "- Try to use the ROC curve to select a threshold to filter only negative examples without losing any positive examples\n",
    "\n",
    "When you are done with the warmup, go to the next notebook. But remember that next datasets will be larger and you will not have the time (trainings will take longer ) to experiment on hyperparameters.\n",
    "\n",
    "**Try more things before going to the next notebook**"
   ]
  },
  {
   "cell_type": "code",
   "execution_count": null,
   "metadata": {},
   "outputs": [],
   "source": []
  },
  {
   "cell_type": "markdown",
   "metadata": {},
   "source": [
    "## Food for thoughts: Tooling\n",
    "\n",
    "To conclude this notebook, reflect on the following,\n",
    "\n",
    "You have launched different experiences and obtained different results,\n",
    "\n",
    "Did you feel the notebook you used was sufficient ? Which tools would you like to have in order to properly run your experiments ? (Quick google search or ask someone) Do they already exist ?"
   ]
  },
  {
   "cell_type": "code",
   "execution_count": null,
   "metadata": {},
   "outputs": [],
   "source": []
  }
 ],
 "metadata": {
  "jupytext": {
   "cell_metadata_json": true,
   "encoding": "# -*- coding: utf-8 -*-",
   "formats": "ipynb,py:percent"
  },
  "kernelspec": {
   "display_name": "Python 3",
   "language": "python",
   "name": "python3"
  }
 },
 "nbformat": 4,
 "nbformat_minor": 4
}
